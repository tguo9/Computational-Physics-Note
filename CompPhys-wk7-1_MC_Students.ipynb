{
 "cells": [
  {
   "cell_type": "markdown",
   "metadata": {},
   "source": [
    "# Topics\n",
    "\n",
    "## 1. Random Numbers and Histogram\n",
    "## 2. Monte Carlo"
   ]
  },
  {
   "cell_type": "markdown",
   "metadata": {},
   "source": [
    "## Random Numbers and Distributions\n",
    "### Distributions\n",
    "- ### 1. Uniform\n",
    "- ### 2. Gaussian\n",
    "- ### 3. Poisson"
   ]
  },
  {
   "cell_type": "code",
   "execution_count": 1,
   "metadata": {
    "collapsed": true
   },
   "outputs": [],
   "source": [
    "import numpy as np\n",
    "import matplotlib.pyplot as plt\n",
    "from pdb import set_trace"
   ]
  },
  {
   "cell_type": "markdown",
   "metadata": {},
   "source": [
    "## Random Number with Different Distribution and Plotting the Histogram"
   ]
  },
  {
   "cell_type": "code",
   "execution_count": 2,
   "metadata": {},
   "outputs": [
    {
     "name": "stdout",
     "output_type": "stream",
     "text": [
      "n (normalized height, or probability density): [  4.46595108e-05   8.93190216e-05   0.00000000e+00   1.33978532e-04\n",
      "   3.12616576e-04   1.78638043e-04   4.46595108e-04   5.80573640e-04\n",
      "   1.38444483e-03   1.87569945e-03   2.63491114e-03   3.08150625e-03\n",
      "   3.66207989e-03   5.00186521e-03   6.83290515e-03   8.97656167e-03\n",
      "   1.12988562e-02   1.33531937e-02   1.53628717e-02   1.71492521e-02\n",
      "   2.03647369e-02   2.38928383e-02   2.42947739e-02   2.50986451e-02\n",
      "   2.60364948e-02   2.53666021e-02   2.55005807e-02   2.63937709e-02\n",
      "   2.44734119e-02   2.09006511e-02   1.98734823e-02   1.81764209e-02\n",
      "   1.46483195e-02   1.39337674e-02   1.02716875e-02   9.11054020e-03\n",
      "   6.74358613e-03   5.76107689e-03   3.66207989e-03   3.03684673e-03\n",
      "   2.00967799e-03   1.65240190e-03   7.59211684e-04   9.37849727e-04\n",
      "   3.57276086e-04   3.12616576e-04   2.67957065e-04   1.78638043e-04\n",
      "   8.93190216e-05   8.93190216e-05] 50\n",
      "bins (locations of bin edges): [  42.68570864   44.92487334   47.16403804   49.40320274   51.64236743\n",
      "   53.88153213   56.12069683   58.35986153   60.59902623   62.83819092\n",
      "   65.07735562   67.31652032   69.55568502   71.79484971   74.03401441\n",
      "   76.27317911   78.51234381   80.75150851   82.9906732    85.2298379\n",
      "   87.4690026    89.7081673    91.947332     94.18649669   96.42566139\n",
      "   98.66482609  100.90399079  103.14315548  105.38232018  107.62148488\n",
      "  109.86064958  112.09981428  114.33897897  116.57814367  118.81730837\n",
      "  121.05647307  123.29563777  125.53480246  127.77396716  130.01313186\n",
      "  132.25229656  134.49146125  136.73062595  138.96979065  141.20895535\n",
      "  143.44812005  145.68728474  147.92644944  150.16561414  152.40477884\n",
      "  154.64394353] 51\n"
     ]
    },
    {
     "data": {
      "image/png": "[encoded data removed]",
      "text/plain": [
       "<matplotlib.figure.Figure at 0x107748f98>"
      ]
     },
     "metadata": {},
     "output_type": "display_data"
    }
   ],
   "source": [
    "%matplotlib inline\n",
    "'''Histogram Plot'''\n",
    "\n",
    "\n",
    "avg = 100.\n",
    "sig = 15.\n",
    "\n",
    "num_pts = 10000\n",
    "\n",
    "x = np.random.randn(num_pts)*sig + avg\n",
    "fig = plt.figure()\n",
    "ax = fig.add_subplot(111)\n",
    "\n",
    "# the histogram of the data\n",
    "Nbins = 50\n",
    "n, bins, patches = ax.hist(x, Nbins, normed=1, facecolor='green', alpha=.5)\n",
    "print('n (normalized height, or probability density):', n, len(n))\n",
    "print('bins (locations of bin edges):', bins, len(bins))\n",
    "\n",
    "ax.set_xlabel('IQ')\n",
    "ax.set_ylabel('Probability')\n",
    "# The is Latex, a typsetting \"program\".\n",
    "ax.set_title(r'$\\mathrm{Histogram\\ of\\ IQ:}\\ \\mu=100,\\ \\sigma=15$')\n",
    "ax.set_xlim(0, 200)\n",
    "ax.set_ylim(0, 0.03)\n",
    "\n",
    "plt.show()\n"
   ]
  },
  {
   "cell_type": "markdown",
   "metadata": {},
   "source": [
    "## Quick Breakout Exercise:\n",
    "- ### What percentage of the population have IQ 1-sigma, 2-sigma, and 3-sigma above the mean?\n",
    "- ### Verify your number using the Gaussian random variables generated above.\n",
    "- ### What's the probability of finding someone with an IQ of 180?  How many such people are there in the US?"
   ]
  },
  {
   "cell_type": "markdown",
   "metadata": {},
   "source": [
    "1. 16%, 2.1%, 0.13%\n",
    "2. "
   ]
  },
  {
   "cell_type": "code",
   "execution_count": 20,
   "metadata": {},
   "outputs": [
    {
     "name": "stdout",
     "output_type": "stream",
     "text": [
      "15.58\n"
     ]
    }
   ],
   "source": [
    "X = x > 115\n",
    "Y = np.sum(X)*100/len(x)\n",
    "print(Y)"
   ]
  },
  {
   "cell_type": "markdown",
   "metadata": {},
   "source": [
    "## Quick Breakout Exercise\n",
    "## Plot a histogram for 10000 number generated with np.random.rand()"
   ]
  },
  {
   "cell_type": "code",
   "execution_count": 23,
   "metadata": {},
   "outputs": [
    {
     "data": {
      "image/png": "[encoded data removed]",
      "text/plain": [
       "<matplotlib.figure.Figure at 0x10ff7c748>"
      ]
     },
     "metadata": {},
     "output_type": "display_data"
    }
   ],
   "source": [
    "%matplotlib inline\n",
    "'''Histogram Plot'''\n",
    "\n",
    "np.random.seed(11)\n",
    "num_pts = 10000\n",
    "\n",
    "x = np.random.rand(num_pts)\n",
    "fig = plt.figure()\n",
    "ax = fig.add_subplot(111)\n",
    "\n",
    "# the histogram of the data\n",
    "Nbins = 50\n",
    "n, bins, patches = ax.hist(x, Nbins, normed=1, facecolor='green', alpha=.5)\n",
    "\n",
    "ax.set_xlim(-0.1, 1.1)\n",
    "ax.set_ylim(0, 1.5)\n",
    "\n",
    "plt.show()"
   ]
  },
  {
   "cell_type": "markdown",
   "metadata": {},
   "source": [
    "## The Poisson Distribution\n",
    "\n",
    "\n",
    "The probability mass function (PMF) for a Poisson distribution:\n",
    "\n",
    "${\\displaystyle P(k{\\text{ events in interval}})=e^{-\\lambda }{\\frac {\\lambda ^{k}}{k!}}}$\n",
    "\n",
    "$\\lambda = $ average number of events per interval\n",
    "\n",
    "### Example \n",
    "\n",
    "### The average number of customers walking into a boutique between 12 - 1 PM is 5.  What's the probability of having 10 costumers on any given day during that time?"
   ]
  },
  {
   "cell_type": "code",
   "execution_count": 28,
   "metadata": {},
   "outputs": [
    {
     "name": "stdout",
     "output_type": "stream",
     "text": [
      "[2 6 5 0 1 4 4 9 4 6]\n"
     ]
    },
    {
     "data": {
      "image/png": "[encoded data removed]",
      "text/plain": [
       "<matplotlib.figure.Figure at 0x10fe2c7b8>"
      ]
     },
     "metadata": {},
     "output_type": "display_data"
    },
    {
     "name": "stdout",
     "output_type": "stream",
     "text": [
      "Avg and std of poisson_rand 4.9712\n",
      "The standard deviation is 2.22454 (expecting 2.23607).\n"
     ]
    }
   ],
   "source": [
    "'''\n",
    "One more example: Poisson random number \n",
    "\n",
    "Show the formula\n",
    "\n",
    "Important in dealing with shot noise (single electron) in a transistor.\n",
    "\n",
    "Need to explain to students what this means.\n",
    "'''\n",
    "\n",
    "%matplotlib inline\n",
    "import numpy as np\n",
    "# Note you will get an integer very time! \n",
    "# unlike for the Gaussian and uniform random variables\n",
    "\n",
    "lam = 5\n",
    "poisson_rand = np.random.poisson(lam, 10000)\n",
    "print(poisson_rand[:10])\n",
    "# the following could work too\n",
    "# _ = plt.hist(s, 15, normed = True)\n",
    "plt.hist(poisson_rand, 15, normed=True)\n",
    "plt.xlim([0, 20])\n",
    "plt.show()\n",
    "\n",
    "# To confirm both the avg is lam, and the std is sqrt(lam)\n",
    "print('Avg and std of poisson_rand', poisson_rand.mean())\n",
    "print('The standard deviation is {:g} (expecting {:g}).'.format(poisson_rand.std(), np.sqrt(lam)))\n"
   ]
  },
  {
   "cell_type": "markdown",
   "metadata": {},
   "source": [
    "## Very small breakout: \n",
    "\n",
    "### a) find the probability of having 10 costumers on any given day between 1 - 2 PM\n",
    "### b) verify your result with the formula"
   ]
  },
  {
   "cell_type": "code",
   "execution_count": 32,
   "metadata": {},
   "outputs": [
    {
     "name": "stdout",
     "output_type": "stream",
     "text": [
      "[12  6 11 15  7 16 14  6  8 11]\n"
     ]
    },
    {
     "data": {
      "image/png": "[encoded data removed]",
      "text/plain": [
       "<matplotlib.figure.Figure at 0x110536ef0>"
      ]
     },
     "metadata": {},
     "output_type": "display_data"
    },
    {
     "name": "stdout",
     "output_type": "stream",
     "text": [
      "Avg and std of poisson_rand 9.9601\n",
      "The standard deviation is 3.12277 (expecting 3.16228).\n"
     ]
    }
   ],
   "source": [
    "%matplotlib inline\n",
    "import numpy as np\n",
    "# Note you will get an integer very time! \n",
    "# unlike for the Gaussian and uniform random variables\n",
    "\n",
    "lam = 10\n",
    "poisson_rand = np.random.poisson(lam, 10000)\n",
    "print(poisson_rand[:10])\n",
    "# the following could work too\n",
    "# _ = plt.hist(s, 15, normed = True)\n",
    "plt.hist(poisson_rand, 15, normed=True)\n",
    "plt.xlim([0, 20])\n",
    "plt.show()\n",
    "\n",
    "# To confirm both the avg is lam, and the std is sqrt(lam)\n",
    "print('Avg and std of poisson_rand', poisson_rand.mean())\n",
    "print('The standard deviation is {:g} (expecting {:g}).'.format(poisson_rand.std(), np.sqrt(lam)))"
   ]
  },
  {
   "cell_type": "markdown",
   "metadata": {},
   "source": [
    "## Breakout Exercse: Integration -- or finding area underneath a curve -- by Monte Carlo\n",
    "- ### Find the area beneath the a curve $y = f(x)$ for $x$ between $a$ and $b$.\n",
    "- ### The ratio of the number of points below the curve vs. the number of points below a sufficiently high ymax (N): n/N is the area beneath the curve measured in units of ymax\\*(b-a).\n",
    "- ### Apply it to the simplest example: integrating to get area under a line, y = x\n",
    "\n",
    "### Suggestion: use np.random.uniform (gives random numbers in a given range) -- feel free to look it up.\n"
   ]
  },
  {
   "cell_type": "code",
   "execution_count": null,
   "metadata": {
    "collapsed": true
   },
   "outputs": [],
   "source": []
  },
  {
   "cell_type": "code",
   "execution_count": 33,
   "metadata": {},
   "outputs": [
    {
     "data": {
      "text/plain": [
       "array([ 0.00594038,  1.57753631,  2.56653646,  1.89766401,  1.24090964,\n",
       "        1.39546508,  1.90445052,  1.85712988,  2.30253571,  1.48995566])"
      ]
     },
     "execution_count": 33,
     "metadata": {},
     "output_type": "execute_result"
    }
   ],
   "source": [
    "np.random.uniform(0, 3, 10)"
   ]
  },
  {
   "cell_type": "code",
   "execution_count": 40,
   "metadata": {},
   "outputs": [
    {
     "name": "stdout",
     "output_type": "stream",
     "text": [
      "0.4982\n"
     ]
    }
   ],
   "source": [
    "def mc_intg(f, a, b, N, ymax):\n",
    "    x = np.random.uniform(a, b, N)\n",
    "    y = np.random.uniform(0, ymax, N)\n",
    "    n = np.sum(y < f(x))\n",
    "    \n",
    "    return (n / N)*ymax*(b-a)\n",
    "\n",
    "A = mc_intg(lambda x: x, 0, 1, 10000, 1)\n",
    "print(A)"
   ]
  },
  {
   "cell_type": "markdown",
   "metadata": {},
   "source": [
    "## Breakout Exercise: \n",
    "\n",
    "- ### Find the value of $\\pi$ with Monte Carlo to better than 1% accuracy (go through the math together first)\n",
    "- ### Plot (use plt.scatter) the points outside the circle as blue and the points inside as red\n",
    "\n",
    "\n"
   ]
  },
  {
   "cell_type": "code",
   "execution_count": null,
   "metadata": {
    "collapsed": true
   },
   "outputs": [],
   "source": []
  },
  {
   "cell_type": "markdown",
   "metadata": {},
   "source": [
    "## End of wk7-1"
   ]
  }
 ],
 "metadata": {
  "kernelspec": {
   "display_name": "Python 3",
   "language": "python",
   "name": "python3"
  },
  "language_info": {
   "codemirror_mode": {
    "name": "ipython",
    "version": 3
   },
   "file_extension": ".py",
   "mimetype": "text/x-python",
   "name": "python",
   "nbconvert_exporter": "python",
   "pygments_lexer": "ipython3",
   "version": "3.6.3"
  }
 },
 "nbformat": 4,
 "nbformat_minor": 1
}
