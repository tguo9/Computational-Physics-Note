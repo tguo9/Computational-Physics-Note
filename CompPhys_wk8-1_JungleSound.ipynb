{
 "cells": [
  {
   "cell_type": "markdown",
   "metadata": {},
   "source": [
    "## See also wk10-1\\_Complex\\_DFT\n",
    "\n",
    "## Breakout: download animal sounds in wav format and make a class that make jungle sound for 5 - 10 sec.\n",
    "\n",
    "- ### You can specify the kinds of animals\n",
    "- ### how many of each\n",
    "- ### how loud each should be\n",
    "- ### optional: time-variation of an animal sound\n",
    "- ### If you hear what sounds like noise: very likely it's due to sound saturation, meaning, sound level exceeding 2^16-1; a very likely scenario for the combined sound.\n",
    "- ### reformat_sound(play_rate, duration, sound_rate, sound)\n",
    "\n",
    "    This function brings all (higher) sampling rates down to play_rate.\n",
    "    \n",
    "    It also turns stereo channels into mono-channel.\n",
    "    \n",
    "    \n",
    "                    # make it mono-channel and with integer-second length\n",
    "                    if len(sound.shape) > 1:\n",
    "\n",
    "    \n",
    "- ### You may use the play_sound() function you wrote last time or Audio from IPython.lib.display"
   ]
  },
  {
   "cell_type": "code",
   "execution_count": 1,
   "metadata": {
    "collapsed": true
   },
   "outputs": [],
   "source": [
    "import numpy as np\n",
    "import matplotlib.pyplot as plt\n",
    "\n",
    "import os\n",
    "from scipy.io.wavfile import write\n",
    "# from IPython.lib.display import Audio"
   ]
  },
  {
   "cell_type": "code",
   "execution_count": 2,
   "metadata": {},
   "outputs": [
    {
     "ename": "FileNotFoundError",
     "evalue": "[Errno 2] No such file or directory: 'bats.wav'",
     "output_type": "error",
     "traceback": [
      "\u001b[0;31m---------------------------------------------------------------------------\u001b[0m",
      "\u001b[0;31mFileNotFoundError\u001b[0m                         Traceback (most recent call last)",
      "\u001b[0;32m<ipython-input-2-e3965323306d>\u001b[0m in \u001b[0;36m<module>\u001b[0;34m()\u001b[0m\n\u001b[1;32m      5\u001b[0m \u001b[0;34m\u001b[0m\u001b[0m\n\u001b[1;32m      6\u001b[0m \u001b[0mrate1\u001b[0m\u001b[0;34m,\u001b[0m \u001b[0mgh_snd\u001b[0m \u001b[0;34m=\u001b[0m \u001b[0mread\u001b[0m\u001b[0;34m(\u001b[0m\u001b[0;34m\"GHSound.wav\"\u001b[0m\u001b[0;34m)\u001b[0m\u001b[0;34m\u001b[0m\u001b[0m\n\u001b[0;32m----> 7\u001b[0;31m \u001b[0mrate2\u001b[0m\u001b[0;34m,\u001b[0m \u001b[0mb_snd\u001b[0m \u001b[0;34m=\u001b[0m \u001b[0mread\u001b[0m\u001b[0;34m(\u001b[0m\u001b[0;34m\"bats.wav\"\u001b[0m\u001b[0;34m)\u001b[0m\u001b[0;34m\u001b[0m\u001b[0m\n\u001b[0m\u001b[1;32m      8\u001b[0m \u001b[0mrate3\u001b[0m\u001b[0;34m,\u001b[0m \u001b[0mba_snd\u001b[0m \u001b[0;34m=\u001b[0m \u001b[0mread\u001b[0m\u001b[0;34m(\u001b[0m\u001b[0;34m\"baligator2.wav\"\u001b[0m\u001b[0;34m)\u001b[0m\u001b[0;34m\u001b[0m\u001b[0m\n\u001b[1;32m      9\u001b[0m \u001b[0;34m\u001b[0m\u001b[0m\n",
      "\u001b[0;32m/anaconda3/lib/python3.6/site-packages/scipy/io/wavfile.py\u001b[0m in \u001b[0;36mread\u001b[0;34m(filename, mmap)\u001b[0m\n\u001b[1;32m    231\u001b[0m         \u001b[0mmmap\u001b[0m \u001b[0;34m=\u001b[0m \u001b[0;32mFalse\u001b[0m\u001b[0;34m\u001b[0m\u001b[0m\n\u001b[1;32m    232\u001b[0m     \u001b[0;32melse\u001b[0m\u001b[0;34m:\u001b[0m\u001b[0;34m\u001b[0m\u001b[0m\n\u001b[0;32m--> 233\u001b[0;31m         \u001b[0mfid\u001b[0m \u001b[0;34m=\u001b[0m \u001b[0mopen\u001b[0m\u001b[0;34m(\u001b[0m\u001b[0mfilename\u001b[0m\u001b[0;34m,\u001b[0m \u001b[0;34m'rb'\u001b[0m\u001b[0;34m)\u001b[0m\u001b[0;34m\u001b[0m\u001b[0m\n\u001b[0m\u001b[1;32m    234\u001b[0m \u001b[0;34m\u001b[0m\u001b[0m\n\u001b[1;32m    235\u001b[0m     \u001b[0;32mtry\u001b[0m\u001b[0;34m:\u001b[0m\u001b[0;34m\u001b[0m\u001b[0m\n",
      "\u001b[0;31mFileNotFoundError\u001b[0m: [Errno 2] No such file or directory: 'bats.wav'"
     ]
    }
   ],
   "source": [
    "# sample_rate = 44100\n",
    "# Audio(\"GHSound.mp3\", rate = sample_rate)\n",
    "\n",
    "from scipy.io.wavfile import read\n",
    "\n",
    "rate1, gh_snd = read(\"GHSound.wav\")\n",
    "rate2, b_snd = read(\"bats.wav\")\n",
    "rate3, ba_snd = read(\"baligator2.wav\")\n",
    "\n",
    "sample_rate = rate1//2\n",
    "\n",
    "gh_snd = gh_snd[316716:481642]\n",
    "b_snd = b_snd[:164926]\n",
    "\n",
    "# print(gh_snd[:,1].shape)\n",
    "# print(b_snd.shape)\n",
    "\n",
    "supersound = gh_snd[:,1] + b_snd + ba_snd\n",
    "\n",
    "write('supersound.wav', sample_rate, supersound)\n",
    "\n",
    "# print(len(gh_snd))\n",
    "\n",
    "Audio(\"supersound.wav\", rate = sample_rate)"
   ]
  }
 ],
 "metadata": {
  "kernelspec": {
   "display_name": "Python 3",
   "language": "python",
   "name": "python3"
  },
  "language_info": {
   "codemirror_mode": {
    "name": "ipython",
    "version": 3
   },
   "file_extension": ".py",
   "mimetype": "text/x-python",
   "name": "python",
   "nbconvert_exporter": "python",
   "pygments_lexer": "ipython3",
   "version": "3.6.3"
  }
 },
 "nbformat": 4,
 "nbformat_minor": 1
}
