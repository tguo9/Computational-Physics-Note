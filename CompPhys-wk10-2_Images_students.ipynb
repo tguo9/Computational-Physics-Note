{
 "cells": [
  {
   "cell_type": "markdown",
   "metadata": {},
   "source": [
    "# Topics\n",
    "\n",
    "## 1. Image Manipulation\n",
    "\n"
   ]
  },
  {
   "cell_type": "markdown",
   "metadata": {},
   "source": [
    "## On your labtop, do\n",
    "        > pip install scikit-image"
   ]
  },
  {
   "cell_type": "markdown",
   "metadata": {},
   "source": [
    "## An image in Python is no more or less than a 2D numpy array!"
   ]
  },
  {
   "cell_type": "code",
   "execution_count": null,
   "metadata": {},
   "outputs": [],
   "source": [
    "%matplotlib inline\n",
    "'''\n",
    "I need to upload moon.gif and lena512.jpg\n",
    "'''\n",
    "import matplotlib.pyplot as plt\n",
    "import numpy as np\n",
    "import os\n",
    "from pdb import set_trace\n",
    "from copy import copy\n",
    "\n",
    "# ----> New Import! <------\n",
    "import matplotlib.image as mpimg\n"
   ]
  },
  {
   "cell_type": "code",
   "execution_count": null,
   "metadata": {},
   "outputs": [],
   "source": [
    "'''\n",
    "\n",
    "A RGBA images -- with four channels.  \n",
    "The last one, the \"alpha-channel\", allows for transparency, \n",
    "\n",
    "'''\n",
    "\n",
    "moon_im=mpimg.imread('moon.gif')\n",
    "print(type(moon_im), moon_im.shape, moon_im.dtype)\n",
    "plt.imshow(moon_im)\n",
    "\n",
    "plt.show()"
   ]
  },
  {
   "cell_type": "code",
   "execution_count": null,
   "metadata": {},
   "outputs": [],
   "source": [
    "# this shows the image is not transparent\n",
    "print(moon_im[:5,:5, 3])\n",
    "\n",
    "moon_copy = copy(moon_im)\n",
    "# make it 50% transparent\n",
    "moon_copy[:,:,3] = 127\n",
    "\n",
    "plt.imshow(moon_copy)\n",
    "plt.show()"
   ]
  },
  {
   "cell_type": "code",
   "execution_count": null,
   "metadata": {},
   "outputs": [],
   "source": [
    "'''\n",
    "Let's pick one channel, say R\n",
    "\n",
    "Shown in false color\n",
    "\n",
    "'''\n",
    "\n",
    "moon = moon_im[:, :, 0]\n",
    "plt.imshow(moon)\n",
    "plt.show()"
   ]
  },
  {
   "cell_type": "code",
   "execution_count": null,
   "metadata": {},
   "outputs": [],
   "source": [
    "'''Show the above image in gray scale'''\n",
    "import matplotlib.cm as cm\n",
    "plt.imshow(moon, cmap = cm.Greys_r)\n",
    "plt.show()\n"
   ]
  },
  {
   "cell_type": "code",
   "execution_count": null,
   "metadata": {},
   "outputs": [],
   "source": [
    "lena = mpimg.imread('lena512.jpg')\n",
    "print(type(lena), lena.shape, lena.dtype)\n",
    "plt.imshow(lena,  cmap = cm.Greys_r)\n",
    "plt.show()"
   ]
  },
  {
   "cell_type": "code",
   "execution_count": null,
   "metadata": {},
   "outputs": [],
   "source": [
    "'''\n",
    "Blending\n",
    "imshow() does a quiet conversion from float to int\n",
    "\n",
    "'''\n",
    "# To avoid saturation (just as for sound)\n",
    "wt1 = 0.25\n",
    "wt2 = 1 - wt1\n",
    "# you can do this because both images are 512x512 arrays\n",
    "blend =wt1*lena + wt2*moon\n",
    "plt.imshow(blend,  cmap = cm.Greys_r)\n",
    "plt.show()"
   ]
  },
  {
   "cell_type": "code",
   "execution_count": null,
   "metadata": {},
   "outputs": [],
   "source": [
    "x = np.arange(10)\n",
    "print(x)\n",
    "print(np.roll(x, 0))\n",
    "print(np.roll(x, 1))\n",
    "print(np.roll(x, 2))"
   ]
  },
  {
   "cell_type": "markdown",
   "metadata": {},
   "source": [
    "## Breakout Exercise:\n",
    "## \"Roll\" every column of the Lena image by 100 pixels"
   ]
  },
  {
   "cell_type": "code",
   "execution_count": null,
   "metadata": {},
   "outputs": [],
   "source": []
  },
  {
   "cell_type": "markdown",
   "metadata": {},
   "source": [
    "## Breakout Exercise:\n",
    "\n",
    "### Write a short program that creates something similar to the following effect (see image below)"
   ]
  },
  {
   "cell_type": "code",
   "execution_count": null,
   "metadata": {},
   "outputs": [],
   "source": []
  },
  {
   "cell_type": "markdown",
   "metadata": {},
   "source": [
    "## i) np.arctan() vs np.arctan2()"
   ]
  },
  {
   "cell_type": "code",
   "execution_count": null,
   "metadata": {},
   "outputs": [],
   "source": [
    "'''\n",
    "np.arctan(y/x) only gives angles beween -90 and +90.\n",
    "\n",
    "depending on the sign of (y/x).  If (y/x) < 0, it doesn't make the distinction  \n",
    "between whether x < 0 or y < 0.  Put it another way, it doesn't know \n",
    "about 2nd and 3rd quandrants.\n",
    "'''\n",
    "\n",
    "import numpy as np\n",
    "\n",
    "x = np.array([-1, +1, +1, -1])\n",
    "y = np.array([-1, -1, +1, +1])\n",
    "ang = np.arctan(y/x) * 180. / np.pi\n",
    "print(ang)"
   ]
  },
  {
   "cell_type": "code",
   "execution_count": null,
   "metadata": {},
   "outputs": [],
   "source": [
    "'''\n",
    "np.arctan2(y, x) is much more intelligent...\n",
    "\n",
    "But note the syntactical difference between np.arctan and np.arctan2.\n",
    "\n",
    "I would recommend to exclusively use np.arctan2() to avoid possible \n",
    "mis-identification of quadrants.\n",
    "\n",
    "'''\n",
    "\n",
    "import numpy as np\n",
    "\n",
    "x = np.array([-1, +1, +1, -1])\n",
    "y = np.array([-1, -1, +1, +1])\n",
    "ang2 = np.arctan2(y, x) * 180 / np.pi\n",
    "print(ang2)"
   ]
  },
  {
   "cell_type": "markdown",
   "metadata": {},
   "source": [
    "## ii) Difference between np.concatenate(), np.column_stack(), np.row_stack()"
   ]
  },
  {
   "cell_type": "code",
   "execution_count": null,
   "metadata": {},
   "outputs": [],
   "source": [
    "a = np.arange(10)\n",
    "b = np.arange(10)*2\n",
    "print('a:', a)\n",
    "print('b:', b)\n",
    "\n",
    "# note the argument should be a tuple\n",
    "concat = np.concatenate( (a, b) )\n",
    "print('concat shape', concat.shape)\n",
    "print('concat:', concat)\n",
    "\n",
    "# the argument also should be a tuple\n",
    "col_stak = np.column_stack( (a, b) )\n",
    "print('col_stack shape:', col_stak.shape)\n",
    "print('col_stack:\\n', col_stak)\n"
   ]
  },
  {
   "cell_type": "markdown",
   "metadata": {},
   "source": [
    "## Tiny Breakout: Is there a np.row_stack?  \n",
    "\n",
    "## And if so, what's the relationship between the results of column_stack() and row_stack() performed on the same two arrays?\n",
    "\n",
    "\n",
    "## Try it out!"
   ]
  },
  {
   "cell_type": "code",
   "execution_count": null,
   "metadata": {},
   "outputs": [],
   "source": []
  },
  {
   "cell_type": "code",
   "execution_count": null,
   "metadata": {},
   "outputs": [],
   "source": [
    "# -------------> New Import!!!! <-----------------\n",
    "from skimage.transform import warp\n",
    "\n",
    "def shift_left(xy):\n",
    "    '''\n",
    "    xy are all possible combinations of indices (coordinates) \n",
    "    of the pixels as a 2D array. \n",
    "    \n",
    "    xy[:, 0] --> all the x values\n",
    "    xy[:, 1] --> all the y values\n",
    "    '''\n",
    "    print('xy shape:', xy.shape)\n",
    "    print('Check: 512^2 = ', 512**2)\n",
    "    xy_shift = copy(xy)\n",
    "    xy_shift[:, 0] = xy[:, 0] - 100\n",
    "    \n",
    "    # note: the location label [0, 0] becomes [100, 0]\n",
    "    # so the pixel at the location [0, 0] is now  \n",
    "    # assigned the pixel value at [100, 0]; so the whole image\n",
    "    # get shifted to the right.\n",
    "    # set_trace()\n",
    "    # print(xy.shape)\n",
    "\n",
    "    # more succinctly:\n",
    "    # xy[:, 0] -= 100; return xy\n",
    "    return xy_shift\n",
    "\n",
    "\n",
    "lena_shift = warp(lena, shift_left)\n",
    "plt.imshow(lena_shift, cmap=plt.cm.gray)\n",
    "plt.show()"
   ]
  },
  {
   "cell_type": "markdown",
   "metadata": {},
   "source": [
    "## Quick review of the basics of Conversion between Cartesian and Polar Coordinates, back and forth -- in preparation for the next breakout exercise."
   ]
  },
  {
   "cell_type": "markdown",
   "metadata": {},
   "source": [
    "## Breakout Exercise -- Conversion between Cartesian and Polar Coordinates\n",
    "\n",
    "- ### Write a function and call it do_nothing() that takes xy as input and do the conversion from $(x, y)$ to $(r, \\theta)$ and then back to $(x, y)$.  (Hint: first you need to find the coordinate for the center of the image (xc, yc).)\n",
    "\n",
    "- ### Show that if the transformation is performed by do_nothing(), you get the original image back"
   ]
  },
  {
   "cell_type": "code",
   "execution_count": null,
   "metadata": {},
   "outputs": [],
   "source": []
  },
  {
   "cell_type": "markdown",
   "metadata": {},
   "source": [
    "## Can check what xc and yc are by using set_trace."
   ]
  },
  {
   "cell_type": "markdown",
   "metadata": {},
   "source": [
    "## Breakout Exercise:\n",
    "## Simulate Fish Eye Lens:\n",
    "## $r \\rightarrow r + r^2$\n"
   ]
  },
  {
   "cell_type": "code",
   "execution_count": null,
   "metadata": {},
   "outputs": [],
   "source": []
  },
  {
   "cell_type": "code",
   "execution_count": null,
   "metadata": {},
   "outputs": [],
   "source": [
    "np.radians(60)"
   ]
  },
  {
   "cell_type": "markdown",
   "metadata": {},
   "source": [
    "## End of week 10-2"
   ]
  }
 ],
 "metadata": {
  "kernelspec": {
   "display_name": "Python 3",
   "language": "python",
   "name": "python3"
  },
  "language_info": {
   "codemirror_mode": {
    "name": "ipython",
    "version": 3
   },
   "file_extension": ".py",
   "mimetype": "text/x-python",
   "name": "python",
   "nbconvert_exporter": "python",
   "pygments_lexer": "ipython3",
   "version": "3.6.5"
  }
 },
 "nbformat": 4,
 "nbformat_minor": 1
}
