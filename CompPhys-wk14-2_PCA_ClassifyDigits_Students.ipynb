{
 "cells": [
  {
   "cell_type": "markdown",
   "metadata": {},
   "source": [
    "# Topics\n",
    "## Classification of Handwritten Digits Using PCA \n"
   ]
  },
  {
   "cell_type": "code",
   "execution_count": 1,
   "metadata": {},
   "outputs": [
    {
     "name": "stdout",
     "output_type": "stream",
     "text": [
      "<class 'numpy.ndarray'> float64 (1797, 64)\n",
      "<class 'numpy.ndarray'> int64 (1797,)\n"
     ]
    }
   ],
   "source": [
    "%matplotlib inline\n",
    "\n",
    "''' Initial Imports'''\n",
    "\n",
    "import numpy as np\n",
    "import matplotlib.pyplot as plt\n",
    "\n",
    "from sklearn.decomposition import PCA\n",
    "from sklearn.datasets import load_digits\n",
    "\n",
    "''' loading handwritten digits: data and targets'''\n",
    "dig_data = load_digits()\n",
    "X = dig_data.data\n",
    "\n",
    "# digits: the values of the digits -- or, \"targets\", \"labels\".\n",
    "digits = dig_data.target\n",
    "\n",
    "print(type(X), X.dtype, X.shape)\n",
    "print(type(digits), digits.dtype, digits.shape)\n"
   ]
  },
  {
   "cell_type": "markdown",
   "metadata": {},
   "source": [
    "# Classification Scheme\n",
    "\n",
    "- ## The (partial) PCA representation of the image is given by the $n$ PCA coefficients.\n",
    "\n",
    "\n",
    "- ## To find out which digit an image represents amounts to finding out which *n*-dimensional cluster does the PCA representation of that image belong.\n",
    "\n",
    "- ## Therefore, one way to classify is to find the $n$-dimensional _average_ distance between the unknown image and the members of the already classified clusters in PCA space, via the Pythagorean Theorem.  \n",
    "\n",
    "- ## For example, suppose $c_0$, $c_1$, ..., $c_{n-1}$ are the $n$ PCA coefficients of the unknown image, and $c_{0, i}$, $c_{1, i}$, ..., $c_{(n-1), i}$ are the PCA cofficients of the $i$th member of a cluster.\n",
    "\n",
    "   ## Then the sum of squared distances between the unknown image and the $i$th member of a cluster can be calculated as follows\n",
    "\n",
    "   ## $d_i^2 = (c_0 - c_{0, i})^2 + (c_1 - c_{1, i})^2 + ... + (c_{n-1} - c_{n-1, i})^2$\n",
    "\n",
    "\n",
    "## _Using this metric, the unknown image belongs to the cluster to which it has the lowest average distance._  \n",
    "\n",
    "# This accomplishes the classification."
   ]
  },
  {
   "cell_type": "markdown",
   "metadata": {},
   "source": [
    "## Breakout: now let's try this simplest way of classification by calculating the average distance between an unknown handwritten digit to all the images that belong to one digit"
   ]
  },
  {
   "cell_type": "code",
   "execution_count": 2,
   "metadata": {},
   "outputs": [
    {
     "name": "stdout",
     "output_type": "stream",
     "text": [
      "There are 178 images of the selected digit.\n",
      "269.213016912\n"
     ]
    }
   ],
   "source": [
    "'''\n",
    "Breakout Solution\n",
    "\n",
    "Note the first 10 images in the data base are simply the ten digits, 0 to 9.\n",
    "\n",
    "Let's just use them as a trial.  Starting with zero.\n",
    "\n",
    "Recall: For Xproj, 0th index selects which image, 1st index selects which PCA component.\n",
    "\n",
    "'''\n",
    "# project from 64 to n_comp dimensions\n",
    "n_comp = 10\n",
    "pca = PCA(n_comp)  \n",
    "Xproj = pca.fit_transform(X)\n",
    "\n",
    "\n",
    "# Select a digit image for recognition\n",
    "select_idx = 0\n",
    "\n",
    "idx_compare = digits == 0\n",
    "#idx_compare = digits == 2\n",
    "\n",
    "Xproj_compare = Xproj[idx_compare, :]\n",
    "print(\"There are {:d} images of the selected digit.\".format(Xproj_compare.shape[0]))\n",
    "\n",
    "# initialize the distance (squared) to be 0\n",
    "metric = 0.\n",
    "# Going through all the images of the same digit\n",
    "for i in range(Xproj_compare.shape[0]):\n",
    "    # Xproj[select_dig] same as Xproj[select_dig, :] \n",
    "    # -- that is, all PCA components are included.\n",
    "    # .sum(): adds up the squares of all the components\n",
    "    metric += ( (Xproj[select_idx] - Xproj_compare[i])**2).sum()\n",
    "\n",
    "# for the \"right group\"\n",
    "# minus 1 because the \"distance\" between a digit and itself is 0.\n",
    "# metric /= (Xproj_compare.shape[0] - 1)\n",
    "\n",
    "# for the \"wrong groups\", by unblocking this line above:\n",
    "# idx_compare = digits == 1\n",
    "metric /= Xproj_compare.shape[0]\n",
    "\n",
    "print(metric)"
   ]
  },
  {
   "cell_type": "code",
   "execution_count": 3,
   "metadata": {},
   "outputs": [
    {
     "name": "stdout",
     "output_type": "stream",
     "text": [
      "4\n"
     ]
    }
   ],
   "source": [
    "#In general the digit that corresponds to an image can be found as follows.\n",
    "\n",
    "select_idx = 100\n",
    "# digits is defined in the first cell \n",
    "print(digits[select_idx])"
   ]
  },
  {
   "cell_type": "markdown",
   "metadata": {},
   "source": [
    "## Breakout: \n",
    "\n",
    "## Turn the above into a function, \n",
    "\n",
    "## classify_dig(X, select_idx, n_comp = 10, prn_interm_metric = False)\n",
    "\n",
    "## where \n",
    "\n",
    "- ### X is the image data for the digits, \n",
    "\n",
    "- ### n_comp specifies the number of PCA components, \n",
    "\n",
    "- ### select_idx selects one of the 1797 images and therefore can be anything between 0 and 1796.  \n",
    "\n",
    "- ### if prn_interm_metric is False, the function should just print the classification result based on PCA and the correct answer.  If it is True, see below.\n",
    "\n",
    "## This function should \n",
    "\n",
    "- ### compare the PCA coefficients of one image, selected by select_idx, with the PCA coefficients of all images in each of the digit groups (\"0\", \"1\", ..., \"9\"); determine to which group the average squared distances is the lowest; and, finally, prints out the digit that this group belongs to.\n",
    "\n",
    "- ### return k_keep, metric_min, where k_keep is the answer (the digit) found by PCA and metric_min is the minimum distance squared.\n",
    "\n",
    "\n",
    "## The main program should \n",
    "\n",
    "- ### call classify_dig(),\n",
    "\n",
    "- ### produce an output that, if prn_interm_metric = True, looks something like this, for the case of the selected image being the first \"1\":\n",
    "\n",
    "        There are 178 images of the selected digit.\n",
    "        k, metric: 0 , 2857.876035\n",
    "\n",
    "        There are 181 images of the selected digit.\n",
    "        k, metric: 1 , 754.657015021\n",
    "\n",
    "        There are 177 images of the selected digit.\n",
    "        k, metric: 2 , 1571.7009927\n",
    "\n",
    "        There are 183 images of the selected digit.\n",
    "        k, metric: 3 , 1900.62858131\n",
    "\n",
    "        There are 181 images of the selected digit.\n",
    "        k, metric: 4 , 1547.08415651\n",
    "\n",
    "        There are 182 images of the selected digit.\n",
    "        k, metric: 5 , 1923.4742909\n",
    "\n",
    "        There are 181 images of the selected digit.\n",
    "        k, metric: 6 , 1935.79313827\n",
    "\n",
    "        There are 179 images of the selected digit.\n",
    "        k, metric: 7 , 1715.301551\n",
    "\n",
    "        There are 174 images of the selected digit.\n",
    "        k, metric: 8 , 1124.21824358\n",
    "\n",
    "        There are 180 images of the selected digit.\n",
    "        k, metric: 9 , 2080.11842361\n",
    "\n",
    "        Correct Answer: 1\n",
    "        Answer based on PCA space distance: 1 (754.657).\n",
    "\n",
    "- ### display the image that corresponds to select_idx for human verification. \n"
   ]
  },
  {
   "cell_type": "code",
   "execution_count": null,
   "metadata": {
    "collapsed": true
   },
   "outputs": [],
   "source": [
    "def classify_dig(X, select_idx, n_comp = 10, prn_interm_metric = False):\n",
    "    \n",
    "    pca = PCA(n_comp)  \n",
    "    Xproj = pca.fit_transform(X)\n",
    "\n",
    "\n",
    "    # Select a digit image for recognition\n",
    "    select_idx = 0\n",
    "\n",
    "    idx_compare = digits == 0\n",
    "    #idx_compare = digits == 2\n",
    "\n",
    "    Xproj_compare = Xproj[idx_compare, :]\n",
    "    print(\"There are {:d} images of the selected digit.\".format(Xproj_compare.shape[0]))\n",
    "\n",
    "    # initialize the distance (squared) to be 0\n",
    "    metric = 0.\n",
    "    # Going through all the images of the same digit\n",
    "    for i in range(Xproj_compare.shape[0]):\n",
    "    # Xproj[select_dig] same as Xproj[select_dig, :] \n",
    "    # -- that is, all PCA components are included.\n",
    "    # .sum(): adds up the squares of all the components\n",
    "        metric += ( (Xproj[select_idx] - Xproj_compare[i])**2).sum()\n",
    "\n",
    "    # for the \"right group\"\n",
    "    # minus 1 because the \"distance\" between a digit and itself is 0.\n",
    "    # metric /= (Xproj_compare.shape[0] - 1)\n",
    "\n",
    "    # for the \"wrong groups\", by unblocking this line above:\n",
    "    # idx_compare = digits == 1\n",
    "    metric /= Xproj_compare.shape[0]\n",
    "\n",
    "    print(metric)"
   ]
  },
  {
   "cell_type": "markdown",
   "metadata": {},
   "source": [
    "## Breakout: Digit recognition success rate estimation -- the \"leave one out\" test.\n",
    "\n",
    "## Write a program (no need to write a function) that \n",
    "\n",
    "## - First goes through the first 50 images in the data base and determine by using classify_dig(), the percentage of the images that are correctly identified.\n",
    "\n",
    "## - Next goes through *all* 1797 images in the data base and determine by using classify_dig(), the percentage of the images that are correctly identified.  This is our \"leave-one-out\" success rate estimation."
   ]
  },
  {
   "cell_type": "markdown",
   "metadata": {},
   "source": [
    "## But let's see what went wrong..."
   ]
  },
  {
   "cell_type": "code",
   "execution_count": 4,
   "metadata": {},
   "outputs": [
    {
     "name": "stdout",
     "output_type": "stream",
     "text": [
      "(100, 64)\n"
     ]
    },
    {
     "data": {
      "image/png": "[encoded data removed]",
      "text/plain": [
       "<matplotlib.figure.Figure at 0x1a0a32b400>"
      ]
     },
     "metadata": {},
     "output_type": "display_data"
    }
   ],
   "source": [
    "'''\n",
    "Indeed, with 8 components, the second 9 looks like a 3!  \n",
    "This problem goes away when you use 20 components.\n",
    "\n",
    "But other problems don't go away, such as:\n",
    "\n",
    "- the first '2' being mid-identified as a '8'\n",
    "- the first '5' being mid-identified as a '9' \n",
    "\n",
    "\n",
    "'''\n",
    "def plot_pca_digits(n_components):\n",
    "\n",
    "    fig = plt.figure(figsize=(8, 8))\n",
    "    plt.subplot(1, 1, 1, frameon=False, xticks=[], yticks=[])\n",
    "    nside = 10\n",
    "    \n",
    "    pca = PCA(n_components).fit(X)\n",
    "    Xproj = pca.inverse_transform(pca.transform(X[:nside ** 2]))\n",
    "    print(Xproj.shape)\n",
    "    Xproj = np.reshape(Xproj, (nside, nside, 8, 8))\n",
    "    total_var = pca.explained_variance_ratio_.sum()\n",
    "\n",
    "    im = np.vstack([np.hstack([Xproj[i, j] for j in range(nside)])\n",
    "                    for i in range(nside)])\n",
    "    plt.imshow(im, cmap = 'binary')\n",
    "    plt.grid(False)\n",
    "    plt.title(\"n = {0}, variance = {1:.2f}\".format(n_components, total_var),\n",
    "                 size=18)\n",
    "    # Not sure what this line does.\n",
    "    plt.clim(0, 16)\n",
    "    \n",
    "# with 8 components, the '9' in the second row looks like 3!\n",
    "# Even with 64 components, that '9' is still not clear!\n",
    "plot_pca_digits(n_components= 64)\n",
    "plt.show()"
   ]
  },
  {
   "cell_type": "markdown",
   "metadata": {},
   "source": [
    "## Problems and Improvements\n",
    "\n",
    "- ### Problem 1: Some clusters are smaller than others.  So just because a digit is closer to the center to one cluster doesn't necessarily mean it belongs there.\n",
    "\n",
    "- ### Improvement 1: draw bounadaries around each cluster -- SVM (next week)\n",
    "\n",
    "- ### Problem 2: There could be genuine confusion -- as you saw in the output of the cell above\n",
    "\n",
    "- ### Improvement 2: Build a probabilistic model (usually an n-dimensional Gaussian) based on the distribution of points in each of the (_n_-dimensional) cluster and then assess the probabilities of a handwritten digit belonging to each cluster (by using distances measured in $\\sigma$'s instead of absolute distance) -- and you make a decision only if one of the probabilities is much higher than any of the others.  If two probabilities are close to each other, then you present both as possibilities.  Really, this is the right way to classify (that's what a human would do -- \"well, this is either a '5' or a '6'.\"  [Use the 2-D PCA space as an example.]  This is a much more sophisticated approach -- future homework problem??"
   ]
  },
  {
   "cell_type": "markdown",
   "metadata": {},
   "source": [
    "## If you think face recogntion is easy:"
   ]
  },
  {
   "cell_type": "code",
   "execution_count": 11,
   "metadata": {},
   "outputs": [
    {
     "data": {
      "image/jpeg": "[encoded data removed]",
      "text/html": [
       "\n",
       "        <iframe\n",
       "            width=\"400\"\n",
       "            height=\"300\"\n",
       "            src=\"https://www.youtube.com/embed/_k0fnTiKEMc\"\n",
       "            frameborder=\"0\"\n",
       "            allowfullscreen\n",
       "        ></iframe>\n",
       "        "
      ],
      "text/plain": [
       "<IPython.lib.display.YouTubeVideo at 0x10dfd1f60>"
      ]
     },
     "metadata": {},
     "output_type": "display_data"
    }
   ],
   "source": [
    "from IPython.display import YouTubeVideo\n",
    "from IPython.display import display\n",
    "display(YouTubeVideo('_k0fnTiKEMc'))"
   ]
  },
  {
   "cell_type": "markdown",
   "metadata": {},
   "source": [
    "## End of Week 14-2"
   ]
  }
 ],
 "metadata": {
  "kernelspec": {
   "display_name": "Python 3",
   "language": "python",
   "name": "python3"
  },
  "language_info": {
   "codemirror_mode": {
    "name": "ipython",
    "version": 3
   },
   "file_extension": ".py",
   "mimetype": "text/x-python",
   "name": "python",
   "nbconvert_exporter": "python",
   "pygments_lexer": "ipython3",
   "version": "3.6.3"
  }
 },
 "nbformat": 4,
 "nbformat_minor": 1
}
