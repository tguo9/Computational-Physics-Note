{
 "cells": [
  {
   "cell_type": "markdown",
   "metadata": {},
   "source": [
    "## Keynote Slides and This notebook\n",
    "# Topics \n",
    "- ## Interactive Debugging Tool\n",
    "- ## Numerical Derivatives\n",
    "- ## Lambda Functions\n",
    "- ## Doctest"
   ]
  },
  {
   "cell_type": "code",
   "execution_count": null,
   "metadata": {
    "collapsed": true
   },
   "outputs": [],
   "source": [
    "import matplotlib as mpl"
   ]
  },
  {
   "cell_type": "code",
   "execution_count": null,
   "metadata": {
    "collapsed": true
   },
   "outputs": [],
   "source": [
    "mpl.__version__"
   ]
  },
  {
   "cell_type": "markdown",
   "metadata": {},
   "source": [
    "## Interactive Python Debugging Tool (module: pdb or ipdb):\n",
    "### Step by step execution"
   ]
  },
  {
   "cell_type": "markdown",
   "metadata": {},
   "source": [
    "Esp. useful commands in pdb/ipdb\n",
    "\n",
    "- n(ext)\n",
    "- s(tep)\n",
    "- p(rint)\n",
    "- unt(il)\n",
    "- c(ontinue)\n",
    "- l(ist)\n",
    "- w(here)\n",
    "- h(elp)\n",
    "- q(uit)\n",
    "\n",
    "You can get full list by googling \"python pdb\" or \"python ipdb\".\n",
    "\n",
    "For ipdb, you may need to do \n",
    "\n",
    "       > pip install ipdb"
   ]
  },
  {
   "cell_type": "code",
   "execution_count": null,
   "metadata": {
    "collapsed": true
   },
   "outputs": [],
   "source": [
    "'''\n",
    "The code below is supposed to compute the average of a list of numbers, \n",
    "but it doesn't work.\n",
    "\n",
    "Broken code!\n",
    "\n",
    "'''\n",
    "\n",
    "def mean(nums):\n",
    "    bot = len(nums)\n",
    "    idx = 0\n",
    "    top = 0\n",
    "    while idx < len(nums):\n",
    "        top += nums[idx]\n",
    "    return top/bot\n",
    "\n",
    "a_list = [1, 2, 3, 4, 5, 6, 10, \"one hundred\"]\n",
    "avg = mean(a_list)\n",
    "print(avg)\n",
    "print('DONE!')\n",
    "# Won't run!"
   ]
  },
  {
   "cell_type": "code",
   "execution_count": 1,
   "metadata": {},
   "outputs": [
    {
     "name": "stdout",
     "output_type": "stream",
     "text": [
      "> <ipython-input-1-78ad72833434>(4)mean()\n",
      "-> bot = len(nums)\n",
      "(Pdb) p bot\n",
      "*** NameError: name 'bot' is not defined\n",
      "(Pdb) s\n",
      "> <ipython-input-1-78ad72833434>(5)mean()\n",
      "-> idx = 0\n",
      "(Pdb) s\n",
      "> <ipython-input-1-78ad72833434>(6)mean()\n",
      "-> top = 0\n",
      "(Pdb) s\n",
      "> <ipython-input-1-78ad72833434>(7)mean()\n",
      "-> while idx < len(nums):\n",
      "(Pdb) s\n",
      "> <ipython-input-1-78ad72833434>(8)mean()\n",
      "-> top += nums[idx]\n",
      "(Pdb) s\n",
      "> <ipython-input-1-78ad72833434>(7)mean()\n",
      "-> while idx < len(nums):\n",
      "(Pdb) s\n",
      "> <ipython-input-1-78ad72833434>(8)mean()\n",
      "-> top += nums[idx]\n",
      "(Pdb) n\n",
      "> <ipython-input-1-78ad72833434>(7)mean()\n",
      "-> while idx < len(nums):\n",
      "(Pdb) q\n"
     ]
    },
    {
     "ename": "BdbQuit",
     "evalue": "",
     "output_type": "error",
     "traceback": [
      "\u001b[0;31m---------------------------------------------------------------------------\u001b[0m",
      "\u001b[0;31mBdbQuit\u001b[0m                                   Traceback (most recent call last)",
      "\u001b[0;32m<ipython-input-1-78ad72833434>\u001b[0m in \u001b[0;36m<module>\u001b[0;34m()\u001b[0m\n\u001b[1;32m     10\u001b[0m \u001b[0;34m\u001b[0m\u001b[0m\n\u001b[1;32m     11\u001b[0m \u001b[0ma_list\u001b[0m \u001b[0;34m=\u001b[0m \u001b[0;34m[\u001b[0m\u001b[0;36m1\u001b[0m\u001b[0;34m,\u001b[0m \u001b[0;36m2\u001b[0m\u001b[0;34m,\u001b[0m \u001b[0;36m3\u001b[0m\u001b[0;34m,\u001b[0m \u001b[0;36m4\u001b[0m\u001b[0;34m,\u001b[0m \u001b[0;36m5\u001b[0m\u001b[0;34m,\u001b[0m \u001b[0;36m6\u001b[0m\u001b[0;34m,\u001b[0m \u001b[0;36m10\u001b[0m\u001b[0;34m,\u001b[0m \u001b[0;34m\"one hundred\"\u001b[0m\u001b[0;34m]\u001b[0m\u001b[0;34m\u001b[0m\u001b[0m\n\u001b[0;32m---> 12\u001b[0;31m \u001b[0mavg\u001b[0m \u001b[0;34m=\u001b[0m \u001b[0mmean\u001b[0m\u001b[0;34m(\u001b[0m\u001b[0ma_list\u001b[0m\u001b[0;34m)\u001b[0m\u001b[0;34m\u001b[0m\u001b[0m\n\u001b[0m\u001b[1;32m     13\u001b[0m \u001b[0mprint\u001b[0m\u001b[0;34m(\u001b[0m\u001b[0mavg\u001b[0m\u001b[0;34m)\u001b[0m\u001b[0;34m\u001b[0m\u001b[0m\n\u001b[1;32m     14\u001b[0m \u001b[0mprint\u001b[0m\u001b[0;34m(\u001b[0m\u001b[0;34m'DONE!'\u001b[0m\u001b[0;34m)\u001b[0m\u001b[0;34m\u001b[0m\u001b[0m\n",
      "\u001b[0;32m<ipython-input-1-78ad72833434>\u001b[0m in \u001b[0;36mmean\u001b[0;34m(nums)\u001b[0m\n\u001b[1;32m      5\u001b[0m     \u001b[0midx\u001b[0m \u001b[0;34m=\u001b[0m \u001b[0;36m0\u001b[0m\u001b[0;34m\u001b[0m\u001b[0m\n\u001b[1;32m      6\u001b[0m     \u001b[0mtop\u001b[0m \u001b[0;34m=\u001b[0m \u001b[0;36m0\u001b[0m\u001b[0;34m\u001b[0m\u001b[0m\n\u001b[0;32m----> 7\u001b[0;31m     \u001b[0;32mwhile\u001b[0m \u001b[0midx\u001b[0m \u001b[0;34m<\u001b[0m \u001b[0mlen\u001b[0m\u001b[0;34m(\u001b[0m\u001b[0mnums\u001b[0m\u001b[0;34m)\u001b[0m\u001b[0;34m:\u001b[0m\u001b[0;34m\u001b[0m\u001b[0m\n\u001b[0m\u001b[1;32m      8\u001b[0m         \u001b[0mtop\u001b[0m \u001b[0;34m+=\u001b[0m \u001b[0mnums\u001b[0m\u001b[0;34m[\u001b[0m\u001b[0midx\u001b[0m\u001b[0;34m]\u001b[0m\u001b[0;34m\u001b[0m\u001b[0m\n\u001b[1;32m      9\u001b[0m     \u001b[0;32mreturn\u001b[0m \u001b[0mtop\u001b[0m \u001b[0;34m/\u001b[0m \u001b[0mbot\u001b[0m\u001b[0;34m\u001b[0m\u001b[0m\n",
      "\u001b[0;32m<ipython-input-1-78ad72833434>\u001b[0m in \u001b[0;36mmean\u001b[0;34m(nums)\u001b[0m\n\u001b[1;32m      5\u001b[0m     \u001b[0midx\u001b[0m \u001b[0;34m=\u001b[0m \u001b[0;36m0\u001b[0m\u001b[0;34m\u001b[0m\u001b[0m\n\u001b[1;32m      6\u001b[0m     \u001b[0mtop\u001b[0m \u001b[0;34m=\u001b[0m \u001b[0;36m0\u001b[0m\u001b[0;34m\u001b[0m\u001b[0m\n\u001b[0;32m----> 7\u001b[0;31m     \u001b[0;32mwhile\u001b[0m \u001b[0midx\u001b[0m \u001b[0;34m<\u001b[0m \u001b[0mlen\u001b[0m\u001b[0;34m(\u001b[0m\u001b[0mnums\u001b[0m\u001b[0;34m)\u001b[0m\u001b[0;34m:\u001b[0m\u001b[0;34m\u001b[0m\u001b[0m\n\u001b[0m\u001b[1;32m      8\u001b[0m         \u001b[0mtop\u001b[0m \u001b[0;34m+=\u001b[0m \u001b[0mnums\u001b[0m\u001b[0;34m[\u001b[0m\u001b[0midx\u001b[0m\u001b[0;34m]\u001b[0m\u001b[0;34m\u001b[0m\u001b[0m\n\u001b[1;32m      9\u001b[0m     \u001b[0;32mreturn\u001b[0m \u001b[0mtop\u001b[0m \u001b[0;34m/\u001b[0m \u001b[0mbot\u001b[0m\u001b[0;34m\u001b[0m\u001b[0m\n",
      "\u001b[0;32m/anaconda3/lib/python3.6/bdb.py\u001b[0m in \u001b[0;36mtrace_dispatch\u001b[0;34m(self, frame, event, arg)\u001b[0m\n\u001b[1;32m     46\u001b[0m             \u001b[0;32mreturn\u001b[0m \u001b[0;31m# None\u001b[0m\u001b[0;34m\u001b[0m\u001b[0m\n\u001b[1;32m     47\u001b[0m         \u001b[0;32mif\u001b[0m \u001b[0mevent\u001b[0m \u001b[0;34m==\u001b[0m \u001b[0;34m'line'\u001b[0m\u001b[0;34m:\u001b[0m\u001b[0;34m\u001b[0m\u001b[0m\n\u001b[0;32m---> 48\u001b[0;31m             \u001b[0;32mreturn\u001b[0m \u001b[0mself\u001b[0m\u001b[0;34m.\u001b[0m\u001b[0mdispatch_line\u001b[0m\u001b[0;34m(\u001b[0m\u001b[0mframe\u001b[0m\u001b[0;34m)\u001b[0m\u001b[0;34m\u001b[0m\u001b[0m\n\u001b[0m\u001b[1;32m     49\u001b[0m         \u001b[0;32mif\u001b[0m \u001b[0mevent\u001b[0m \u001b[0;34m==\u001b[0m \u001b[0;34m'call'\u001b[0m\u001b[0;34m:\u001b[0m\u001b[0;34m\u001b[0m\u001b[0m\n\u001b[1;32m     50\u001b[0m             \u001b[0;32mreturn\u001b[0m \u001b[0mself\u001b[0m\u001b[0;34m.\u001b[0m\u001b[0mdispatch_call\u001b[0m\u001b[0;34m(\u001b[0m\u001b[0mframe\u001b[0m\u001b[0;34m,\u001b[0m \u001b[0marg\u001b[0m\u001b[0;34m)\u001b[0m\u001b[0;34m\u001b[0m\u001b[0m\n",
      "\u001b[0;32m/anaconda3/lib/python3.6/bdb.py\u001b[0m in \u001b[0;36mdispatch_line\u001b[0;34m(self, frame)\u001b[0m\n\u001b[1;32m     65\u001b[0m         \u001b[0;32mif\u001b[0m \u001b[0mself\u001b[0m\u001b[0;34m.\u001b[0m\u001b[0mstop_here\u001b[0m\u001b[0;34m(\u001b[0m\u001b[0mframe\u001b[0m\u001b[0;34m)\u001b[0m \u001b[0;32mor\u001b[0m \u001b[0mself\u001b[0m\u001b[0;34m.\u001b[0m\u001b[0mbreak_here\u001b[0m\u001b[0;34m(\u001b[0m\u001b[0mframe\u001b[0m\u001b[0;34m)\u001b[0m\u001b[0;34m:\u001b[0m\u001b[0;34m\u001b[0m\u001b[0m\n\u001b[1;32m     66\u001b[0m             \u001b[0mself\u001b[0m\u001b[0;34m.\u001b[0m\u001b[0muser_line\u001b[0m\u001b[0;34m(\u001b[0m\u001b[0mframe\u001b[0m\u001b[0;34m)\u001b[0m\u001b[0;34m\u001b[0m\u001b[0m\n\u001b[0;32m---> 67\u001b[0;31m             \u001b[0;32mif\u001b[0m \u001b[0mself\u001b[0m\u001b[0;34m.\u001b[0m\u001b[0mquitting\u001b[0m\u001b[0;34m:\u001b[0m \u001b[0;32mraise\u001b[0m \u001b[0mBdbQuit\u001b[0m\u001b[0;34m\u001b[0m\u001b[0m\n\u001b[0m\u001b[1;32m     68\u001b[0m         \u001b[0;32mreturn\u001b[0m \u001b[0mself\u001b[0m\u001b[0;34m.\u001b[0m\u001b[0mtrace_dispatch\u001b[0m\u001b[0;34m\u001b[0m\u001b[0m\n\u001b[1;32m     69\u001b[0m \u001b[0;34m\u001b[0m\u001b[0m\n",
      "\u001b[0;31mBdbQuit\u001b[0m: "
     ]
    }
   ],
   "source": [
    "from pdb import set_trace\n",
    "def mean(nums):\n",
    "    set_trace()   # This sets a break point.\n",
    "    bot = len(nums)\n",
    "    idx = 0\n",
    "    top = 0\n",
    "    while idx < len(nums):\n",
    "        top += nums[idx]\n",
    "    return top / bot\n",
    "\n",
    "a_list = [1, 2, 3, 4, 5, 6, 10, \"one hundred\"]\n",
    "avg = mean(a_list)\n",
    "print(avg)\n",
    "print('DONE!')\n",
    "# Won't run!\n",
    "#mean(a_list)"
   ]
  },
  {
   "cell_type": "code",
   "execution_count": 2,
   "metadata": {},
   "outputs": [
    {
     "name": "stdout",
     "output_type": "stream",
     "text": [
      "0\n",
      "1\n",
      "2\n",
      "3\n",
      "4\n",
      "5\n",
      "6\n",
      "7\n"
     ]
    },
    {
     "ename": "TypeError",
     "evalue": "unsupported operand type(s) for +=: 'int' and 'str'",
     "output_type": "error",
     "traceback": [
      "\u001b[0;31m---------------------------------------------------------------------------\u001b[0m",
      "\u001b[0;31mTypeError\u001b[0m                                 Traceback (most recent call last)",
      "\u001b[0;32m<ipython-input-2-4cd8fb44b587>\u001b[0m in \u001b[0;36m<module>\u001b[0;34m()\u001b[0m\n\u001b[1;32m     11\u001b[0m \u001b[0;34m\u001b[0m\u001b[0m\n\u001b[1;32m     12\u001b[0m \u001b[0ma_list\u001b[0m \u001b[0;34m=\u001b[0m \u001b[0;34m[\u001b[0m\u001b[0;36m1\u001b[0m\u001b[0;34m,\u001b[0m \u001b[0;36m2\u001b[0m\u001b[0;34m,\u001b[0m \u001b[0;36m3\u001b[0m\u001b[0;34m,\u001b[0m \u001b[0;36m4\u001b[0m\u001b[0;34m,\u001b[0m \u001b[0;36m5\u001b[0m\u001b[0;34m,\u001b[0m \u001b[0;36m6\u001b[0m\u001b[0;34m,\u001b[0m \u001b[0;36m10\u001b[0m\u001b[0;34m,\u001b[0m \u001b[0;34m\"one hundred\"\u001b[0m\u001b[0;34m]\u001b[0m\u001b[0;34m\u001b[0m\u001b[0m\n\u001b[0;32m---> 13\u001b[0;31m \u001b[0mavg\u001b[0m \u001b[0;34m=\u001b[0m \u001b[0mmean\u001b[0m\u001b[0;34m(\u001b[0m\u001b[0ma_list\u001b[0m\u001b[0;34m)\u001b[0m\u001b[0;34m\u001b[0m\u001b[0m\n\u001b[0m\u001b[1;32m     14\u001b[0m \u001b[0mprint\u001b[0m\u001b[0;34m(\u001b[0m\u001b[0mavg\u001b[0m\u001b[0;34m)\u001b[0m\u001b[0;34m\u001b[0m\u001b[0m\n\u001b[1;32m     15\u001b[0m \u001b[0mprint\u001b[0m\u001b[0;34m(\u001b[0m\u001b[0;34m'DONE!'\u001b[0m\u001b[0;34m)\u001b[0m\u001b[0;34m\u001b[0m\u001b[0m\n",
      "\u001b[0;32m<ipython-input-2-4cd8fb44b587>\u001b[0m in \u001b[0;36mmean\u001b[0;34m(nums)\u001b[0m\n\u001b[1;32m      5\u001b[0m     \u001b[0mprint\u001b[0m\u001b[0;34m(\u001b[0m\u001b[0midx\u001b[0m\u001b[0;34m)\u001b[0m\u001b[0;34m\u001b[0m\u001b[0m\n\u001b[1;32m      6\u001b[0m     \u001b[0;32mwhile\u001b[0m \u001b[0midx\u001b[0m \u001b[0;34m<\u001b[0m \u001b[0mlen\u001b[0m\u001b[0;34m(\u001b[0m\u001b[0mnums\u001b[0m\u001b[0;34m)\u001b[0m\u001b[0;34m:\u001b[0m\u001b[0;34m\u001b[0m\u001b[0m\n\u001b[0;32m----> 7\u001b[0;31m         \u001b[0mtop\u001b[0m \u001b[0;34m+=\u001b[0m \u001b[0mnums\u001b[0m\u001b[0;34m[\u001b[0m\u001b[0midx\u001b[0m\u001b[0;34m]\u001b[0m\u001b[0;34m\u001b[0m\u001b[0m\n\u001b[0m\u001b[1;32m      8\u001b[0m         \u001b[0midx\u001b[0m \u001b[0;34m+=\u001b[0m \u001b[0;36m1\u001b[0m\u001b[0;34m\u001b[0m\u001b[0m\n\u001b[1;32m      9\u001b[0m         \u001b[0mprint\u001b[0m\u001b[0;34m(\u001b[0m\u001b[0midx\u001b[0m\u001b[0;34m)\u001b[0m\u001b[0;34m\u001b[0m\u001b[0m\n",
      "\u001b[0;31mTypeError\u001b[0m: unsupported operand type(s) for +=: 'int' and 'str'"
     ]
    }
   ],
   "source": [
    "def mean(nums):\n",
    "    bot = len(nums)\n",
    "    idx = 0\n",
    "    top = 0\n",
    "    print(idx)\n",
    "    while idx < len(nums):\n",
    "        top += nums[idx]\n",
    "        idx += 1\n",
    "        print(idx)\n",
    "    return top / bot\n",
    "\n",
    "a_list = [1, 2, 3, 4, 5, 6, 10, \"one hundred\"]\n",
    "avg = mean(a_list)\n",
    "print(avg)\n",
    "print('DONE!')\n",
    "# Won't run!\n",
    "#mean(a_list)"
   ]
  },
  {
   "cell_type": "code",
   "execution_count": 3,
   "metadata": {},
   "outputs": [
    {
     "name": "stdout",
     "output_type": "stream",
     "text": [
      "0\n",
      "1\n",
      "2\n",
      "3\n",
      "4\n",
      "5\n",
      "6\n",
      "7\n",
      "8\n",
      "16.375\n",
      "DONE!\n"
     ]
    }
   ],
   "source": [
    "def mean(nums):\n",
    "    bot = len(nums)\n",
    "    idx = 0\n",
    "    top = 0\n",
    "    print(idx)\n",
    "    while idx < len(nums):\n",
    "        top += nums[idx]\n",
    "        idx += 1\n",
    "        print(idx)\n",
    "    return top / bot\n",
    "\n",
    "a_list = [1, 2, 3, 4, 5, 6, 10, 100]\n",
    "avg = mean(a_list)\n",
    "print(avg)\n",
    "print('DONE!')\n"
   ]
  },
  {
   "cell_type": "code",
   "execution_count": null,
   "metadata": {
    "collapsed": true
   },
   "outputs": [],
   "source": [
    "# cleanup and add a docstring -- you will be graded for style as well as functionality\n",
    "def mean(nums):\n",
    "    '''A function that calculates the mean of a list of numbers'''\n",
    "    bot = len(nums)\n",
    "    idx = 0\n",
    "    top = 0\n",
    "    while idx < bot:\n",
    "        top += nums[idx]\n",
    "        idx += 1\n",
    "    return top / bot\n",
    "\n",
    "a_list = [1, 2, 3, 4, 5, 6, 10, 100]\n",
    "avg = mean(a_list)\n",
    "print(avg)\n",
    "print('DONE!')"
   ]
  },
  {
   "cell_type": "markdown",
   "metadata": {},
   "source": [
    "## Breakout Excercise:  Use pdb to debug the program practice_pdb_series_expansion.py\n"
   ]
  },
  {
   "cell_type": "code",
   "execution_count": null,
   "metadata": {
    "collapsed": true
   },
   "outputs": [],
   "source": [
    "'''\n",
    "    \n",
    "    Note: this is a series expansion, but a Taylor Series!\n",
    "    The usual Taylor series for log(1+x) has a converge range of -1<x<=1\n",
    "    This is based on ln(x) = sum( (1/n) ((x-1)/x)^n ) -- replacing x by x + 1, \n",
    "    we get the formula below.\n",
    "    \n",
    "    But it doesn't work.  Use set_trace(), step through the program, print out \n",
    "    the values of certain variables to help you figure out what the problem is.\n",
    "    \n",
    "'''\n",
    "\n",
    "\n",
    "from pdb import set_trace\n",
    "\n",
    "def L(x, n):\n",
    "    for i in range(1, n + 1):\n",
    "        approx += (1/(i+1))*(x/(1+x))**(i+1)\n",
    "    return approx\n",
    "\n",
    "\n",
    "x = 2\n",
    "approx = 0\n",
    "y = L(x, 100)\n",
    "print('Series Expansion Approximation:', y)\n",
    "from math import log  #you would guess math module would have log...yes!\n",
    "exact_val = log(1+x)\n",
    "print('exact_val', exact_val)\n",
    "from math import log1p  #more accurate for small x.\n",
    "print('log1p output', log1p(x))"
   ]
  },
  {
   "cell_type": "markdown",
   "metadata": {},
   "source": [
    "## Numerical Derivative"
   ]
  },
  {
   "cell_type": "code",
   "execution_count": null,
   "metadata": {
    "collapsed": true
   },
   "outputs": [],
   "source": [
    "def g(t):\n",
    "    return t**(-6)\n",
    "print(g(2))"
   ]
  },
  {
   "cell_type": "markdown",
   "metadata": {},
   "source": [
    "## Mini-Breakout Exercise\n",
    "\n",
    "### 1. Find the value of g(t) at t = 2\n",
    "### 2. How do you compute the derivative of g(t) around t = 2?"
   ]
  },
  {
   "cell_type": "markdown",
   "metadata": {},
   "source": [
    "## Mini-breakout Exercise\n",
    "\n",
    "### Write a function deriv2() that computes the 2nd derivative of a function"
   ]
  },
  {
   "cell_type": "code",
   "execution_count": null,
   "metadata": {
    "collapsed": true
   },
   "outputs": [],
   "source": [
    "h = 1e**-6\n",
    "x = 2\n"
   ]
  },
  {
   "cell_type": "markdown",
   "metadata": {},
   "source": [
    "## Numerical Instability and Arbitrary Precision"
   ]
  },
  {
   "cell_type": "code",
   "execution_count": 1,
   "metadata": {},
   "outputs": [
    {
     "ename": "NameError",
     "evalue": "name 'deriv2' is not defined",
     "output_type": "error",
     "traceback": [
      "\u001b[0;31m---------------------------------------------------------------------------\u001b[0m",
      "\u001b[0;31mNameError\u001b[0m                                 Traceback (most recent call last)",
      "\u001b[0;32m<ipython-input-1-a6b1166d98fb>\u001b[0m in \u001b[0;36m<module>\u001b[0;34m()\u001b[0m\n\u001b[1;32m      5\u001b[0m \u001b[0;32mfor\u001b[0m \u001b[0mk\u001b[0m \u001b[0;32min\u001b[0m \u001b[0mrange\u001b[0m\u001b[0;34m(\u001b[0m\u001b[0;36m1\u001b[0m\u001b[0;34m,\u001b[0m \u001b[0;36m15\u001b[0m\u001b[0;34m)\u001b[0m\u001b[0;34m:\u001b[0m\u001b[0;34m\u001b[0m\u001b[0m\n\u001b[1;32m      6\u001b[0m     \u001b[0mh\u001b[0m \u001b[0;34m=\u001b[0m \u001b[0;36m10\u001b[0m\u001b[0;34m**\u001b[0m\u001b[0;34m(\u001b[0m\u001b[0;34m-\u001b[0m\u001b[0mk\u001b[0m\u001b[0;34m)\u001b[0m\u001b[0;34m\u001b[0m\u001b[0m\n\u001b[0;32m----> 7\u001b[0;31m     \u001b[0md2g\u001b[0m \u001b[0;34m=\u001b[0m \u001b[0mderiv2\u001b[0m\u001b[0;34m(\u001b[0m\u001b[0mg\u001b[0m\u001b[0;34m,\u001b[0m \u001b[0;36m1\u001b[0m\u001b[0;34m,\u001b[0m \u001b[0mh\u001b[0m\u001b[0;34m)\u001b[0m\u001b[0;34m\u001b[0m\u001b[0m\n\u001b[0m\u001b[1;32m      8\u001b[0m     \u001b[0mprint\u001b[0m\u001b[0;34m(\u001b[0m\u001b[0;34m'h = {:.0e}: {:.5g}'\u001b[0m\u001b[0;34m.\u001b[0m\u001b[0mformat\u001b[0m\u001b[0;34m(\u001b[0m\u001b[0mh\u001b[0m\u001b[0;34m,\u001b[0m \u001b[0md2g\u001b[0m\u001b[0;34m)\u001b[0m\u001b[0;34m)\u001b[0m\u001b[0;34m\u001b[0m\u001b[0m\n",
      "\u001b[0;31mNameError\u001b[0m: name 'deriv2' is not defined"
     ]
    }
   ],
   "source": [
    "def g(t):\n",
    "    return t**(-6)\n",
    "\n",
    "\n",
    "for k in range(1, 15):\n",
    "    h = 10**(-k)\n",
    "    d2g = deriv2(g, 1, h)\n",
    "    print('h = {:.0e}: {:.5g}'.format(h, d2g))"
   ]
  },
  {
   "cell_type": "code",
   "execution_count": 2,
   "metadata": {},
   "outputs": [
    {
     "name": "stdout",
     "output_type": "stream",
     "text": [
      "h = 1e-01: 44.615\n",
      "h = 1e-02: 42.025\n",
      "h = 1e-03: 42.000\n",
      "h = 1e-04: 42.000\n",
      "h = 1e-05: 42.000\n",
      "h = 1e-06: 42.000\n",
      "h = 1e-07: 42.000\n",
      "h = 1e-08: 42.000\n",
      "h = 1e-09: 42.000\n",
      "h = 1e-10: 42.000\n",
      "h = 1e-11: 42.000\n",
      "h = 1e-12: 42.000\n",
      "h = 1e-13: 42.000\n",
      "h = 1e-14: 42.00\n"
     ]
    }
   ],
   "source": [
    "'''\n",
    "To get everything right use arbitrary precision\n",
    "this is a lazy approach; works, but may not be the fastest way.\n",
    "'''\n",
    "\n",
    "import decimal                  # floats with arbitrarily many digits\n",
    "decimal.getcontext().prec = 30  # use 25 digits\n",
    "D = decimal.Decimal             # short form for new float type\n",
    "\n",
    "def deriv2(f, x, h=1e-9):\n",
    "    x = D(str(x));  h = D(str(h))  # convert to high precision\n",
    "    f_dblpr = (f(x-h) - 2*f(x) + f(x+h))/(h*h)\n",
    "    return f_dblpr\n",
    "\n",
    "for k in range(1,15):\n",
    "    h = 10**(-k)\n",
    "    print('h = {:.0e}: {:.5g}'.format(h, deriv2(g, 1, h)))"
   ]
  },
  {
   "cell_type": "markdown",
   "metadata": {},
   "source": [
    "## lambda function"
   ]
  },
  {
   "cell_type": "code",
   "execution_count": 3,
   "metadata": {},
   "outputs": [
    {
     "name": "stdout",
     "output_type": "stream",
     "text": [
      "13\n",
      "13\n"
     ]
    }
   ],
   "source": [
    "# these two are equivalent \n",
    "\n",
    "func = lambda x: x**2 + 4\n",
    "\n",
    "def f(x):\n",
    "    return x**2 + 4\n",
    "\n",
    "# Generally speaking, don't define a function inside \n",
    "# another function, except for when it's short.\n",
    "# And preferrably, use the lambda function\n",
    "\n",
    "print(func(3))\n",
    "print(f(3))"
   ]
  },
  {
   "cell_type": "markdown",
   "metadata": {},
   "source": [
    "## Mini-breakout Exercise:\n",
    "- ### Write the function g() above using lambda function -- call it g_lamb().\n",
    "- ### Test and see if it gives you the same results as g()"
   ]
  },
  {
   "cell_type": "code",
   "execution_count": 4,
   "metadata": {
    "collapsed": true
   },
   "outputs": [],
   "source": [
    "g_lamb = lambda x: x**(-6)"
   ]
  },
  {
   "cell_type": "code",
   "execution_count": 6,
   "metadata": {
    "collapsed": true
   },
   "outputs": [],
   "source": [
    "# Compact if statement\n",
    "x = 3\n",
    "a = 2 if x < 1 else 0"
   ]
  },
  {
   "cell_type": "code",
   "execution_count": 5,
   "metadata": {},
   "outputs": [
    {
     "name": "stdout",
     "output_type": "stream",
     "text": [
      "0.9974949866040544\n",
      "0\n"
     ]
    }
   ],
   "source": [
    "# more sophisticated usage of lambda function:\n",
    "from math import pi, sin\n",
    "x = 1.5\n",
    "f = lambda x: sin(x) if 0 <= x <= 2*pi else 0\n",
    "print(f(x))\n",
    "print(f(7))"
   ]
  },
  {
   "cell_type": "markdown",
   "metadata": {},
   "source": [
    "## Doctest\n",
    "\n",
    "### Doctest example: See deriv_doctest.py\n"
   ]
  },
  {
   "cell_type": "markdown",
   "metadata": {},
   "source": [
    "## Breakout Exercise\n",
    "\n",
    "- ### Write a function that computes the factorial of an integer.\n",
    "- ### There should be a doctest that tests the factorials of 4.\n",
    "- ### Change (and improve) the doctest so that it tests the factorials of 0, 1, 2, 3, 4, 5 -- use list comprehension"
   ]
  },
  {
   "cell_type": "code",
   "execution_count": null,
   "metadata": {
    "collapsed": true
   },
   "outputs": [],
   "source": [
    "'''\n",
    "    >>> 0 <= fac(4) - 24 < 1e-6\n",
    "    True\n",
    "    \n",
    "    >>> \n",
    "\n",
    "'''\n",
    "\n",
    "def fac(x):\n",
    "\t\n",
    "\tnums = [i  for i in range(x)]\n",
    "\tresult = []\n",
    "\n",
    "\t\n",
    "\n",
    "\tif x == 0:\n",
    "        return 1\n",
    "\n",
    "\tif x < 0:\n",
    "\t\texit()\n",
    "\n",
    "\tresult = 1\n",
    "\twhile(x > 0):\n",
    "\t\tresult *= x\n",
    "\t\tx -= 1\n",
    "\n",
    "\treturn result\n",
    "\n",
    "if __name__ == '__main__':\n",
    "\t\n",
    "\timport doctest\n",
    "\tdoctest.testmod()\n",
    "\n",
    "\tx = 4\n",
    "\ty = fac(x)\n",
    "\tprint(\"Result: \", y)"
   ]
  },
  {
   "cell_type": "markdown",
   "metadata": {},
   "source": [
    "## End of Week3-1"
   ]
  }
 ],
 "metadata": {
  "kernelspec": {
   "display_name": "Python 3",
   "language": "python",
   "name": "python3"
  },
  "language_info": {
   "codemirror_mode": {
    "name": "ipython",
    "version": 3
   },
   "file_extension": ".py",
   "mimetype": "text/x-python",
   "name": "python",
   "nbconvert_exporter": "python",
   "pygments_lexer": "ipython3",
   "version": "3.6.3"
  }
 },
 "nbformat": 4,
 "nbformat_minor": 1
}
