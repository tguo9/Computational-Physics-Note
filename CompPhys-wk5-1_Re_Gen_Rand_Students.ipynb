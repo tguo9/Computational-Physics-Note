{
 "cells": [
  {
   "cell_type": "markdown",
   "metadata": {},
   "source": [
    "# Topics (related to the midterm project):\n",
    "\n",
    "## 1. Regular Expression (regex, or sometimes RE)\n",
    "## 2. return vs. yield\n",
    "## 3. random.sample, numpy.random, and histogram plots "
   ]
  },
  {
   "cell_type": "markdown",
   "metadata": {},
   "source": [
    "## Regular expression\n",
    "\n",
    "\n",
    "### \"The limits of my language mean the limits of my world.\"  \n",
    "\n",
    "### \\- Ludwig Wittgenstein\n",
    "\n",
    "\n",
    "Resources:\n",
    "\n",
    "* *Effective Computation in Physics * Chapter 8\n",
    "\n",
    "* https://docs.python.org/3/library/re.html"
   ]
  },
  {
   "cell_type": "code",
   "execution_count": 1,
   "metadata": {
    "collapsed": true
   },
   "outputs": [],
   "source": [
    "#---------> new import\n",
    "import re"
   ]
  },
  {
   "cell_type": "raw",
   "metadata": {},
   "source": [
    "Expression   Matches\n",
    "\n",
    "uvwxyz       uvwxyz\n",
    "\n",
    "'.'          any character except a newline. \n",
    "\n",
    "'*'          0 or more repetitions of the preceding RE \n",
    "             (e.g., ab* will match ‘a’, ‘ab’, or ‘a’ followed by any number of ‘b's)\n",
    "+            1 or more repetitions of the preceding RE.  \n",
    "             (e.g., ab+ will match 'ab' or 'abb')\n",
    "'?'          0 or 1 repetitions of the preceding RE. ab? will match either ‘a’ or ‘ab’.\n",
    "\n",
    "\n",
    ".*           0 or more of any character, such as 'supercalifragilisticexpialidocious' or '42'\n",
    "\n",
    "\n",
    "\n",
    "\n",
    "[A-Z]        any character between A and Z\n",
    "[a-z]        any character between a and z\n",
    "[0-9]        any digit        \n",
    "[^]          not, e.g. [^0-9] means not a digit\n",
    "\\s           any white space characters (usually single space or tab)\n",
    "\\d           any digits (equivalent to [0-9])\n",
    "\n",
    "[u-z]        One of either u, v, w, x, y, or z"
   ]
  },
  {
   "cell_type": "markdown",
   "metadata": {},
   "source": [
    "### re.match(pattern, string, flags=0)\n",
    "\n",
    "\n",
    "### pattern:\tThis is the regular expression to be matched.\n",
    "\n",
    "### string:\tThis is the string, which would be searched to match the pattern at the beginning of string.\n",
    "\n",
    "### flags:\tYou can specify different flags, e.g., to do case insensitive search, use flags = re.I (for all flags:\n",
    "\n",
    "https://docs.python.org/3/howto/regex.html)\n",
    "\n",
    "\n",
    "### The match() function returns a match object on success, and\n",
    "\n",
    "        None \n",
    "        \n",
    "### on failure.  \n",
    "\n",
    "### Use group(num) or group() method of match object to access matched expression.\n",
    "\n",
    "\n",
    "### *Note: match() checks for a match only at the beginning of the string*"
   ]
  },
  {
   "cell_type": "code",
   "execution_count": 2,
   "metadata": {},
   "outputs": [
    {
     "name": "stdout",
     "output_type": "stream",
     "text": [
      "<_sre.SRE_Match object; span=(0, 4), match='2000'>\n",
      "2000\n"
     ]
    }
   ],
   "source": [
    "'''\n",
    "A match!\n",
    "'''\n",
    "m = re.match(\"20+\", '20001')\n",
    "print(m)\n",
    "print(m.group())"
   ]
  },
  {
   "cell_type": "code",
   "execution_count": 3,
   "metadata": {},
   "outputs": [
    {
     "name": "stdout",
     "output_type": "stream",
     "text": [
      "First with * (0 or more repetitions)\n",
      "<_sre.SRE_Match object; span=(0, 1), match='2'>\n",
      "2\n",
      "\n",
      "Now with + (1 or more repetitions)\n",
      "None\n"
     ]
    },
    {
     "ename": "AttributeError",
     "evalue": "'NoneType' object has no attribute 'group'",
     "output_type": "error",
     "traceback": [
      "\u001b[0;31m---------------------------------------------------------------------------\u001b[0m",
      "\u001b[0;31mAttributeError\u001b[0m                            Traceback (most recent call last)",
      "\u001b[0;32m<ipython-input-3-da223546f291>\u001b[0m in \u001b[0;36m<module>\u001b[0;34m()\u001b[0m\n\u001b[1;32m     11\u001b[0m \u001b[0mm\u001b[0m \u001b[0;34m=\u001b[0m \u001b[0mre\u001b[0m\u001b[0;34m.\u001b[0m\u001b[0mmatch\u001b[0m\u001b[0;34m(\u001b[0m\u001b[0;34m\"20+\"\u001b[0m\u001b[0;34m,\u001b[0m \u001b[0;34m'2'\u001b[0m\u001b[0;34m)\u001b[0m\u001b[0;34m\u001b[0m\u001b[0m\n\u001b[1;32m     12\u001b[0m \u001b[0mprint\u001b[0m\u001b[0;34m(\u001b[0m\u001b[0mm\u001b[0m\u001b[0;34m)\u001b[0m\u001b[0;34m\u001b[0m\u001b[0m\n\u001b[0;32m---> 13\u001b[0;31m \u001b[0mprint\u001b[0m\u001b[0;34m(\u001b[0m\u001b[0mm\u001b[0m\u001b[0;34m.\u001b[0m\u001b[0mgroup\u001b[0m\u001b[0;34m(\u001b[0m\u001b[0;34m)\u001b[0m\u001b[0;34m)\u001b[0m\u001b[0;34m\u001b[0m\u001b[0m\n\u001b[0m\u001b[1;32m     14\u001b[0m \u001b[0;34m\u001b[0m\u001b[0m\n",
      "\u001b[0;31mAttributeError\u001b[0m: 'NoneType' object has no attribute 'group'"
     ]
    }
   ],
   "source": [
    "'''\n",
    "Difference between the qualifier * and +\n",
    "'''\n",
    "print('First with * (0 or more repetitions)')\n",
    "m = re.match(\"20*\", '2')\n",
    "print(m)\n",
    "print(m.group())\n",
    "\n",
    "print()\n",
    "print('Now with + (1 or more repetitions)')\n",
    "m = re.match(\"20+\", '2')\n",
    "print(m)\n",
    "print(m.group())\n",
    "\n"
   ]
  },
  {
   "cell_type": "code",
   "execution_count": null,
   "metadata": {
    "collapsed": true
   },
   "outputs": [],
   "source": [
    "'''\n",
    "A match!\n",
    "Using . -- because the year, month, date maybe separated by\n",
    "- or . or ,\n",
    "'''\n",
    "m = re.match(\"20[01][0-9].[0-9][0-9].[0-9][0-9]\", '2005-12-16')\n",
    "print(m)\n",
    "print(m.group())"
   ]
  },
  {
   "cell_type": "code",
   "execution_count": null,
   "metadata": {
    "collapsed": true
   },
   "outputs": [],
   "source": [
    "'''\n",
    "A match!\n",
    "\n",
    "Note that \n",
    "\n",
    "a) \"[0-9][0-9]\" at the end is NOT doing anything.\n",
    "b) there doesn't seem to be anything to catch the '(day)' at the end \n",
    "-- but it didn't matter.\n",
    "\n",
    ".* will match as many characters as possible.  That there are unused expressions\n",
    "in the search string (namely, \"[0-9][0-9]\") -- that's OK! \n",
    "\n",
    "'''\n",
    "reg_exp1 = \"20[01][0-9].*[0-9][0-9].*[0-9][0-9]\"\n",
    "m = re.match(reg_exp1, '2015(year) 12(month) 16(day)')\n",
    "print(m)\n",
    "print(m.group())"
   ]
  },
  {
   "cell_type": "code",
   "execution_count": null,
   "metadata": {
    "collapsed": true
   },
   "outputs": [],
   "source": [
    "'''\n",
    "To verify: after removing \"[0-9][0-9]\" in the search string, \n",
    "we still get a match!\n",
    "'''\n",
    "reg_exp2 = \"20[01][0-9].*[0-9][0-9].*\"\n",
    "m = re.match(reg_exp2, '2015(year) 12(month) 16(day)')\n",
    "print(m)\n",
    "print(m.group())"
   ]
  },
  {
   "cell_type": "code",
   "execution_count": null,
   "metadata": {
    "collapsed": true
   },
   "outputs": [],
   "source": [
    "'''\n",
    ".* is stopped by a newline character.\n",
    "'''\n",
    "m = re.match(\"20[01][0-9].*[0-9][0-9].*\", '2015(year) 12(month)\\n 16(day)')\n",
    "print(m)\n",
    "print(m.group())\n"
   ]
  },
  {
   "cell_type": "code",
   "execution_count": null,
   "metadata": {
    "collapsed": true
   },
   "outputs": [],
   "source": [
    "'''\n",
    ".* is also stopped by an exact match\n",
    "'''\n",
    "m = re.match(\"20[01][0-9].*[0-9][0-9].*16\", '2015(year) 12(month) 16(day)')\n",
    "print(m)\n",
    "print(m.group())\n"
   ]
  },
  {
   "cell_type": "code",
   "execution_count": null,
   "metadata": {
    "collapsed": true
   },
   "outputs": [],
   "source": [
    "# A match!  [0-9] --> \\d\n",
    "m = re.match(\"20[01]\\d.*[0-9][0-9].*\", '2015(year) 12(month) 16(day)')\n",
    "print(m)\n",
    "print(m.group())"
   ]
  },
  {
   "cell_type": "code",
   "execution_count": null,
   "metadata": {
    "collapsed": true
   },
   "outputs": [],
   "source": [
    "# match or not?  '2015-12-16' --> '2015a12b16'\n",
    "import re\n",
    "m = re.match(\"20[01][0-9].*[0-9][ 0-9].*\", '2015a12b16')\n",
    "if m:\n",
    "    print(m.group())"
   ]
  },
  {
   "cell_type": "code",
   "execution_count": null,
   "metadata": {
    "collapsed": true
   },
   "outputs": [],
   "source": [
    "# match or not?  second '.*' --> [^a-z]\n",
    "import re\n",
    "m = re.match(\"20[01][0-9].*[0-9][0-9][^a-z][0-9][0-9]\", '2015a12b16')\n",
    "\n",
    "# but this would match\n",
    "#m = re.match(\"20[01][0-9].*[0-9][0-9][^a-z][0-9][0-9]\", '2015a12-16')\n",
    "\n",
    "if m:\n",
    "    print(m.group())\n",
    "else:\n",
    "    print('no match')"
   ]
  },
  {
   "cell_type": "code",
   "execution_count": null,
   "metadata": {
    "collapsed": true
   },
   "outputs": [],
   "source": [
    "# match or not?  [^a-z] --> [^a]\n",
    "m = re.match(\"20[01][ 0-9].*[0-9][0-9][^a][0-9][0-9]\", '2015a12b16')\n",
    "if m:\n",
    "    print(m.group())\n",
    "else:\n",
    "    print('no match')"
   ]
  },
  {
   "cell_type": "code",
   "execution_count": null,
   "metadata": {
    "collapsed": true
   },
   "outputs": [],
   "source": [
    "'''The question of how far .* extends to'''\n",
    "import re\n",
    "m = re.match(\"20[01][0-9].*[0-9][0-9]\", '2019adlkfj are1216')\n",
    "if m:\n",
    "    print(m.group())\n",
    "else:\n",
    "    print('no match')"
   ]
  },
  {
   "cell_type": "code",
   "execution_count": null,
   "metadata": {
    "collapsed": true
   },
   "outputs": [],
   "source": [
    "# match or not? and why?\n",
    "m = re.match(\" 20[01][0-9].*[0-9][0-9].*\", '2015a12&16')\n",
    "if m:\n",
    "    print(m.group())\n",
    "else:\n",
    "    print('no match')"
   ]
  },
  {
   "cell_type": "code",
   "execution_count": null,
   "metadata": {
    "collapsed": true
   },
   "outputs": [],
   "source": [
    "# match or not?\n",
    "import re\n",
    "m = re.match(\"20[01][0-9].*[0-9][0-9].*[0-9][0-9]\", 'Something very\\\n",
    "interesting will happen on 2018-12-16.  You just wait and see.')\n",
    "if m:\n",
    "    print(m.group())\n",
    "else:\n",
    "    print('no match')"
   ]
  },
  {
   "cell_type": "code",
   "execution_count": null,
   "metadata": {
    "collapsed": true
   },
   "outputs": [],
   "source": [
    "# match or not?  Note: here .* is stopped by the exact match of \"20\"\n",
    "import re\n",
    "m = re.match(\".*20[01][0-9].*[0-9][0-9].*\", 'Something very intereting \\\n",
    "will happen on 2018-12-16.  You just wait and see.')\n",
    "if m:\n",
    "    print(m.group())\n",
    "else:\n",
    "    print('no match')"
   ]
  },
  {
   "cell_type": "code",
   "execution_count": null,
   "metadata": {
    "collapsed": true
   },
   "outputs": [],
   "source": [
    "# A silly example: Match or not?\n",
    "import re\n",
    "m = re.match(\".*20[01][0-9]-[0-9][0-9]-[0-9][0-9]\", 'Something very interesting \\\n",
    "will happen on 2018.12.16.  You just wait and see.')\n",
    "if m:\n",
    "    print(m.group())\n",
    "else:\n",
    "    print('no match')"
   ]
  },
  {
   "cell_type": "markdown",
   "metadata": {},
   "source": [
    "## re.search()\n",
    "\n",
    "### If you want to locate a match anywhere in string, use search()"
   ]
  },
  {
   "cell_type": "code",
   "execution_count": null,
   "metadata": {
    "collapsed": true
   },
   "outputs": [],
   "source": [
    "m = re.search(\"20[02][0-9]-[0-9][0-9]-[0-9][0-9]\", 'Something very \\\n",
    "interesting will happen on 2020-12-16.  You just wait and see.')\n",
    "print(m)\n",
    "print(m.group())"
   ]
  },
  {
   "cell_type": "code",
   "execution_count": null,
   "metadata": {
    "collapsed": true
   },
   "outputs": [],
   "source": [
    "'''\n",
    "the .group() method, and note: the second occurrence was ignored.\n",
    "The ()'s in the pattern delineate the groups.\n",
    "'''\n",
    "m = re.search(\"(20[02][0-9])-([0-9][0-9])-([0-9][0-9])\", \\\n",
    "              'Something very interesting will happen on 2020-12-16. \\\n",
    "              You just wait and see, only after 2020-12-16.')\n",
    "\n",
    "# all groups\n",
    "print(m.group())\n",
    "print(m.group(0))\n",
    "print(m.group(0) == m.group())\n",
    "\n",
    "# individual groups\n",
    "print('year:', m.group(1))\n",
    "print('month:', m.group(2))\n",
    "print('date:', m.group(3))"
   ]
  },
  {
   "cell_type": "markdown",
   "metadata": {},
   "source": [
    "## re.search()\n",
    "\n",
    "### To find all occurrences, use findall() -- returns the results as a list"
   ]
  },
  {
   "cell_type": "code",
   "execution_count": null,
   "metadata": {
    "collapsed": true
   },
   "outputs": [],
   "source": [
    "m = re.findall(\"20[02][0-9]-[0-9][0-9]-[0-9][0-9]\",\\\n",
    "               'Something very interesting will happen on 2020-12-16.\\\n",
    "               You just wait and see, only after 2020-12-16.')\n",
    "print(m, type(m))"
   ]
  },
  {
   "cell_type": "code",
   "execution_count": null,
   "metadata": {
    "collapsed": true
   },
   "outputs": [],
   "source": [
    "'''\n",
    "if you want groups for each occurence, \n",
    "the groups will show up in a tuple\n",
    "'''\n",
    "m = re.findall(\"(20[02][0-9])-([0-9][0-9])-([0-9][0-9])\",\\\n",
    "               'Something very intereting will happen on 2020-12-16.\\\n",
    "               You just wait and see, only after 2020-12-16.')\n",
    "print(m, type(m))\n",
    "print(m[0][1])"
   ]
  },
  {
   "cell_type": "markdown",
   "metadata": {},
   "source": [
    "## Breakout Problem:\n",
    "\n",
    "### The following text is copied from wikipedia,\n",
    "\n",
    "### \"The current men's world record is 9.58 seconds, set by Jamaica's Usain Bolt in 2009,\"\n",
    "\n",
    "### By using re.match(), extract the world record time.  You cannot use any actual words in your pattern, e.g. \"seconds\" would not be allowed.\n",
    "\n",
    "### To escape the \n",
    "        . \n",
    "\n",
    "### use \n",
    "\n",
    "        \\.\n"
   ]
  },
  {
   "cell_type": "code",
   "execution_count": null,
   "metadata": {
    "collapsed": true
   },
   "outputs": [],
   "source": [
    "my_fav_val = re.match(\".* (\\d*\\.\\d*).*\", \\\n",
    "                      'The current men\\'s world record is 9.58 seconds, set by Jamaica\\'s Usain Bolt in 2009,')\n",
    "\n",
    "if my_fav_val:\n",
    "    print(my_fav_val.group(1))\n",
    "else:\n",
    "    print(\"No Match\")"
   ]
  },
  {
   "cell_type": "markdown",
   "metadata": {},
   "source": [
    "## return vs. yield"
   ]
  },
  {
   "cell_type": "code",
   "execution_count": null,
   "metadata": {
    "collapsed": true
   },
   "outputs": [],
   "source": [
    "'''\n",
    "A peculiar thing about enumerate(): you can't use len() with enumerate()!\n",
    "\n",
    "Compare list and enumerate below\n",
    "'''\n",
    "from collections import Iterable\n",
    "\n",
    "# list\n",
    "y = range(10)\n",
    "print(len(y))\n",
    "print(isinstance(y, Iterable))\n",
    "print('y[3]', y[3])\n",
    "\n",
    "\n",
    "# enuermate\n",
    "z = enumerate(range(10))\n",
    "print(isinstance(z, Iterable))\n",
    "#print(len(z))                     # will get error.\n",
    "print(next(z))\n",
    "# print(z.next())\n",
    "# print(z.next())\n",
    "# print(z.next())\n",
    "# #print('z[3]', z[3])                      # will also get error."
   ]
  },
  {
   "cell_type": "markdown",
   "metadata": {},
   "source": [
    "## eunmerate() *is* an iterable; but not all iterables have a length!"
   ]
  },
  {
   "cell_type": "code",
   "execution_count": null,
   "metadata": {
    "collapsed": true
   },
   "outputs": [],
   "source": [
    "# return:\n",
    "def create_integers(N):\n",
    "    lst=[]\n",
    "    for i in range(N):\n",
    "        lst.append(i)\n",
    "    return lst\n",
    "newints = create_integers(6)    \n",
    "print(newints) \n"
   ]
  },
  {
   "cell_type": "code",
   "execution_count": null,
   "metadata": {
    "collapsed": true
   },
   "outputs": [],
   "source": [
    "print(type(create_integers), type(newints))\n"
   ]
  },
  {
   "cell_type": "code",
   "execution_count": null,
   "metadata": {
    "collapsed": true
   },
   "outputs": [],
   "source": [
    "# yield:\n",
    "from pdb import set_trace\n",
    "def generate_integers(N):\n",
    "    for i in range(N):\n",
    "        # note: yield inside the for loop!\n",
    "        # and NOT at the end of the function!\n",
    "        yield i\n",
    "        #set_trace()\n",
    "        print('The {:d}th time generate_integers() is called'.format(i+1))\n",
    "\n",
    "N = 10        \n",
    "gen = generate_integers(N)\n",
    "print(type(generate_integers), type(gen))\n"
   ]
  },
  {
   "cell_type": "code",
   "execution_count": null,
   "metadata": {
    "collapsed": true
   },
   "outputs": [],
   "source": [
    "# It shows you that the next generate_integers() is called, \n",
    "# python starts from the statement immediately below the yield statement.\n",
    "next(gen)"
   ]
  },
  {
   "cell_type": "code",
   "execution_count": null,
   "metadata": {
    "collapsed": true
   },
   "outputs": [],
   "source": [
    "# Note: it started from 1 (and not 0)!\n",
    "for i in range(6):\n",
    "    intg = next(gen)\n",
    "    print(intg)"
   ]
  },
  {
   "cell_type": "code",
   "execution_count": null,
   "metadata": {
    "collapsed": true
   },
   "outputs": [],
   "source": [
    "'''\n",
    "You will get error if the previous cell has been run.\n",
    "a generator cannot be easily reset\n",
    "'''\n",
    "for i in range(6):\n",
    "    print(next(gen))"
   ]
  },
  {
   "cell_type": "markdown",
   "metadata": {},
   "source": [
    "## Breakout Problem: Write a function that generates all Fibonacci numbers less than 300 by using yield.  \n",
    "\n",
    "Definition: \n",
    "\n",
    "$F_n = F_{n-1} + F_{n-2}$; \n",
    "\n",
    "$F_0 = 0$ and $F_1 = 1$.  \n",
    "\n",
    "_Hint_: Once you have calculated $F_3$, you have no need for $F_0$ and $F_1$; once you know $F_4$, you have no need for $F_3$ and $F_2$; and so forth.\n",
    "\n",
    "So for every new round, you only need to keep the previous two numbers.\n",
    "\n",
    "Computing by hand:\n",
    "\n",
    "$F_0 = 0$\n",
    "            \n",
    "$F_1 = 1$\n",
    "\n",
    "$F_2 = 1$\n",
    "\n",
    "$F_3 = 2$\n",
    "\n",
    "...\n"
   ]
  },
  {
   "cell_type": "code",
   "execution_count": 4,
   "metadata": {
    "collapsed": true
   },
   "outputs": [],
   "source": [
    "def fib():\n",
    "    f0 = 0\n",
    "    f1 = 1\n",
    "    while True:\n",
    "        \n",
    "        yield f0\n",
    "        f0, f1 = f1, (f0+f1)\n"
   ]
  },
  {
   "cell_type": "code",
   "execution_count": 5,
   "metadata": {},
   "outputs": [
    {
     "name": "stdout",
     "output_type": "stream",
     "text": [
      "0\n",
      "1\n",
      "1\n",
      "2\n",
      "3\n",
      "5\n",
      "8\n",
      "13\n",
      "21\n",
      "34\n",
      "55\n",
      "89\n",
      "144\n",
      "233\n"
     ]
    }
   ],
   "source": [
    "'''\n",
    "since fib() yields the next value\n",
    "you can treat it like an iterable.\n",
    "'''\n",
    "fibo_ind = 0\n",
    "for fibo in fib():\n",
    "    #print 'ind = ', ind\n",
    "    fibo_ind += 1\n",
    "    if fibo > 300:\n",
    "        break\n",
    "    else:\n",
    "        print(fibo)\n",
    "        \n",
    "# Let's work out the flow of the code.\n",
    "# This is an elegant, memory efficient way of generating Fibonacci numbers \n",
    "# (note: at any time only the latest two Fibonacci numbers take up memory, \n",
    "# as is necessary for the calculation of the next Fib number.   \n",
    "# All previous Fib numbers are \"forgotten\"!)\n",
    "# This is very different from the \"list\" way of doing things, \n",
    "# where every element takes up memory.\n"
   ]
  },
  {
   "cell_type": "markdown",
   "metadata": {},
   "source": [
    "## The random module\n",
    "\n",
    "- random.shuffle()\n",
    "- random.random()\n",
    "- random.sample()\n",
    "\n",
    "from http://docs.python.org/2/library/random.html:"
   ]
  },
  {
   "cell_type": "code",
   "execution_count": null,
   "metadata": {
    "collapsed": true
   },
   "outputs": [],
   "source": [
    "import random\n",
    "lst = ['a', 'b', 'c', 'd', 'x', 'y', 'z']\n",
    "random.shuffle(lst)   # this shuffles the list in place.  \n",
    "print(lst)   # you can run this as many times as you want."
   ]
  },
  {
   "cell_type": "code",
   "execution_count": null,
   "metadata": {
    "collapsed": true
   },
   "outputs": [],
   "source": [
    "'''\n",
    "to generate one random number between 0 and 1 from a uniform distribution\n",
    "'''\n",
    "import random\n",
    "random.random()"
   ]
  },
  {
   "cell_type": "markdown",
   "metadata": {},
   "source": [
    "## random.sample(population, k)\n",
    "\n",
    "Return a k length list of unique elements chosen from the population sequence. \n",
    "\n",
    "Returns a new list containing elements from the population while leaving the original population unchanged. \n"
   ]
  },
  {
   "cell_type": "code",
   "execution_count": null,
   "metadata": {
    "collapsed": true
   },
   "outputs": [],
   "source": [
    "# Example of random.sample:\n",
    "from random import sample\n",
    "print(sample(range(10000000), 10))\n"
   ]
  },
  {
   "cell_type": "code",
   "execution_count": null,
   "metadata": {
    "collapsed": true
   },
   "outputs": [],
   "source": [
    "### Another example: \n",
    "from string import ascii_lowercase\n",
    "print(type(ascii_lowercase), len(ascii_lowercase))\n",
    "# So yes, you can only import modules, functions but also strings and other objects.\n",
    "# In Python: almost everything is an object (modules, functions, strings, ints, floats,\n",
    "# dictionaries, lists, classes, etc.)\n",
    "# and therefore, there is no fundamental difference between them in terms of how they\n",
    "# are treated and used in Python.\n",
    "print(ascii_lowercase)\n",
    "print(sample(ascii_lowercase, 10))"
   ]
  },
  {
   "cell_type": "markdown",
   "metadata": {},
   "source": [
    "## ASCII stands for: American Standard Code for Information Interchange"
   ]
  },
  {
   "cell_type": "markdown",
   "metadata": {},
   "source": [
    "## numpy.random\n",
    "\n",
    "\n",
    "- numpy.random.randn()\n",
    "- numpy.random.rand()\n",
    "\n",
    "http://docs.scipy.org/doc/numpy/reference/routines.random.html\n",
    "\n",
    "Gaussian distribution -- $\\mu$ (mu) is the mean, and $\\sigma$ (sigma) is the standard deviation. "
   ]
  },
  {
   "cell_type": "code",
   "execution_count": null,
   "metadata": {
    "collapsed": true
   },
   "outputs": [],
   "source": [
    "from numpy.random import randn\n",
    "x = randn()\n",
    "print(x)"
   ]
  },
  {
   "cell_type": "code",
   "execution_count": null,
   "metadata": {
    "collapsed": true
   },
   "outputs": [],
   "source": [
    "from numpy.random import rand\n",
    "x = rand()\n",
    "print(x)"
   ]
  },
  {
   "cell_type": "code",
   "execution_count": null,
   "metadata": {
    "collapsed": true
   },
   "outputs": [],
   "source": [
    "'''\n",
    "To vary the mean and the standard deviation\n",
    "'''\n",
    "import numpy as np\n",
    "from numpy.random import randn\n",
    "x = randn(10000)*2. + 3.\n",
    "#print(x)\n",
    "print(np.mean(x))\n",
    "print(np.std(x))"
   ]
  },
  {
   "cell_type": "code",
   "execution_count": 2,
   "metadata": {},
   "outputs": [
    {
     "data": {
      "image/png": "[encoded data removed]",
      "text/plain": [
       "<matplotlib.figure.Figure at 0x10bcae358>"
      ]
     },
     "metadata": {},
     "output_type": "display_data"
    }
   ],
   "source": [
    "'''Histogram Plot'''\n",
    "\n",
    "%matplotlib inline\n",
    "import numpy as np\n",
    "import matplotlib.pyplot as plt\n",
    "\n",
    "\n",
    "x = np.random.randn(10000)*15 + 100\n",
    "fig = plt.figure()\n",
    "ax = fig.add_subplot(111)\n",
    "\n",
    "# the histogram of the data\n",
    "\n",
    "Nbins = 50\n",
    "ax.hist(x, Nbins)\n",
    "# hist uses np.histogram under the hood to create 'n' and 'bins'.\n",
    "# np.histogram returns the bin edges, so there will be Nbin probability\n",
    "# density values (n), Nbin+1 bin edges (bins), and finally, Nbin patches.\n",
    "\n",
    "plt.show()\n"
   ]
  },
  {
   "cell_type": "code",
   "execution_count": 1,
   "metadata": {},
   "outputs": [
    {
     "name": "stdout",
     "output_type": "stream",
     "text": [
      "n (normalized height, or probability density): [  3.93408976e-05   0.00000000e+00   3.93408976e-05   1.96704488e-04\n",
      "   4.72090772e-04   6.29454362e-04   1.45561321e-03   1.61297680e-03\n",
      "   2.24243117e-03   3.34397630e-03   4.44552143e-03   5.82245285e-03\n",
      "   6.92399798e-03   1.03073152e-02   1.46741548e-02   1.47528366e-02\n",
      "   1.87262673e-02   1.96704488e-02   2.28177206e-02   2.32898114e-02\n",
      "   2.62010378e-02   2.62797196e-02   2.73419239e-02   2.76959919e-02\n",
      "   2.26210161e-02   2.25423343e-02   1.84115401e-02   1.51855865e-02\n",
      "   1.30611780e-02   1.20383147e-02   8.34027030e-03   6.17652093e-03\n",
      "   4.99629400e-03   3.77672617e-03   2.63584014e-03   1.45561321e-03\n",
      "   1.14088603e-03   6.29454362e-04   6.68795260e-04   3.93408976e-04\n",
      "   1.57363591e-04   1.18022693e-04   3.93408976e-05   0.00000000e+00\n",
      "   0.00000000e+00   0.00000000e+00   0.00000000e+00   0.00000000e+00\n",
      "   0.00000000e+00   3.93408976e-05] 50\n",
      "bins (locations of bin edges): [  45.15534145   47.6972255    50.23910954   52.78099359   55.32287763\n",
      "   57.86476167   60.40664572   62.94852976   65.49041381   68.03229785\n",
      "   70.5741819    73.11606594   75.65794999   78.19983403   80.74171808\n",
      "   83.28360212   85.82548617   88.36737021   90.90925425   93.4511383\n",
      "   95.99302234   98.53490639  101.07679043  103.61867448  106.16055852\n",
      "  108.70244257  111.24432661  113.78621066  116.3280947   118.86997875\n",
      "  121.41186279  123.95374684  126.49563088  129.03751492  131.57939897\n",
      "  134.12128301  136.66316706  139.2050511   141.74693515  144.28881919\n",
      "  146.83070324  149.37258728  151.91447133  154.45635537  156.99823942\n",
      "  159.54012346  162.08200751  164.62389155  167.16577559  169.70765964\n",
      "  172.24954368] 51\n"
     ]
    },
    {
     "data": {
      "image/png": "[encoded data removed]",
      "text/plain": [
       "<matplotlib.figure.Figure at 0x10bcba898>"
      ]
     },
     "metadata": {},
     "output_type": "display_data"
    }
   ],
   "source": [
    "'''\n",
    "Histogram Plot\n",
    "\n",
    "Now, let's make it a little better\n",
    "\n",
    "'''\n",
    "\n",
    "%matplotlib inline\n",
    "import numpy as np\n",
    "import matplotlib.pyplot as plt\n",
    "\n",
    "\n",
    "x = np.random.randn(10000)*15 + 100\n",
    "fig = plt.figure()\n",
    "ax = fig.add_subplot(111)\n",
    "\n",
    "# the histogram of the data\n",
    "\n",
    "Nbins = 50\n",
    "# normed=1: the total area adds up to 1; # alpha: level of tranparency.\n",
    "n, bins, patches = ax.hist(x, Nbins, normed=1, facecolor='g', alpha=.5)\n",
    "print('n (normalized height, or probability density):', n, len(n))\n",
    "print('bins (locations of bin edges):', bins, len(bins))\n",
    "\n",
    "# hist uses np.histogram under the hood to create 'n' and 'bins'.\n",
    "# np.histogram returns the bin edges, so there will be Nbin probability\n",
    "# density values (n), Nbin+1 bin edges (bins), and finally, Nbin patches.\n",
    "\n",
    "plt.show()\n"
   ]
  },
  {
   "cell_type": "markdown",
   "metadata": {},
   "source": [
    "## Breakout Exercise:\n",
    "\n",
    "## Give the above plot:\n",
    "\n",
    "- ### A title: Histogram of IQ: mu=100, sigma=15\n",
    "- ### Appropriate labels for the x and y axes \n",
    "- ### Appropriate and aesthetically pleasing x and y limits."
   ]
  },
  {
   "cell_type": "code",
   "execution_count": 6,
   "metadata": {},
   "outputs": [
    {
     "name": "stdout",
     "output_type": "stream",
     "text": [
      "n (normalized height, or probability density): [  3.99510665e-05   0.00000000e+00   0.00000000e+00   3.99510665e-05\n",
      "   3.99510665e-05   1.99755332e-04   2.79657465e-04   2.79657465e-04\n",
      "   6.79168130e-04   7.19119197e-04   9.58825596e-04   2.19730866e-03\n",
      "   2.27721079e-03   3.07623212e-03   4.35466625e-03   6.91153450e-03\n",
      "   9.38850063e-03   9.74806023e-03   1.36632647e-02   1.65796926e-02\n",
      "   2.07346035e-02   2.06547014e-02   2.23725972e-02   2.45299548e-02\n",
      "   2.56086336e-02   2.70468720e-02   2.61279975e-02   2.74863337e-02\n",
      "   2.28919611e-02   2.12939184e-02   1.89767566e-02   1.65397415e-02\n",
      "   1.19853199e-02   1.00676688e-02   9.38850063e-03   6.23236637e-03\n",
      "   5.35344291e-03   3.55564492e-03   2.59681932e-03   1.63799373e-03\n",
      "   9.58825596e-04   8.38972396e-04   3.19608532e-04   3.59559598e-04\n",
      "   2.39706399e-04   1.19853199e-04   7.99021330e-05   3.99510665e-05\n",
      "   0.00000000e+00   3.99510665e-05] 50\n",
      "bins (locations of bin edges): [  35.86190722   38.36496931   40.8680314    43.37109349   45.87415558\n",
      "   48.37721767   50.88027976   53.38334185   55.88640394   58.38946603\n",
      "   60.89252812   63.39559021   65.8986523    68.40171439   70.90477648\n",
      "   73.40783857   75.91090066   78.41396275   80.91702484   83.42008693\n",
      "   85.92314902   88.42621111   90.9292732    93.43233529   95.93539738\n",
      "   98.43845947  100.94152156  103.44458365  105.94764574  108.45070783\n",
      "  110.95376992  113.45683201  115.9598941   118.46295619  120.96601828\n",
      "  123.46908037  125.97214246  128.47520455  130.97826664  133.48132873\n",
      "  135.98439082  138.48745291  140.990515    143.49357709  145.99663918\n",
      "  148.49970127  151.00276336  153.50582545  156.00888754  158.51194963\n",
      "  161.01501172] 51\n"
     ]
    },
    {
     "data": {
      "image/png": "[encoded data removed]",
      "text/plain": [
       "<matplotlib.figure.Figure at 0x11457ae48>"
      ]
     },
     "metadata": {},
     "output_type": "display_data"
    }
   ],
   "source": [
    "%matplotlib inline\n",
    "import numpy as np\n",
    "import matplotlib.pyplot as plt\n",
    "\n",
    "\n",
    "x = np.random.randn(10000)*15 + 100\n",
    "fig = plt.figure()\n",
    "ax = fig.add_subplot(111)\n",
    "plt.title(\"Histogram of IQ\")\n",
    "\n",
    "# the histogram of the data\n",
    "\n",
    "Nbins = 50\n",
    "# normed=1: the total area adds up to 1; # alpha: level of tranparency.\n",
    "n, bins, patches = ax.hist(x, Nbins, normed=1, facecolor='g', alpha=.5)\n",
    "print('n (normalized height, or probability density):', n, len(n))\n",
    "print('bins (locations of bin edges):', bins, len(bins))\n",
    "\n",
    "# hist uses np.histogram under the hood to create 'n' and 'bins'.\n",
    "# np.histogram returns the bin edges, so there will be Nbin probability\n",
    "# density values (n), Nbin+1 bin edges (bins), and finally, Nbin patches.\n",
    "\n",
    "plt.xlabel(\"IQ\")\n",
    "plt.ylabel(\"Height\")\n",
    "\n",
    "plt.show()"
   ]
  },
  {
   "cell_type": "markdown",
   "metadata": {},
   "source": [
    "## End of wk 5-1"
   ]
  }
 ],
 "metadata": {
  "kernelspec": {
   "display_name": "Python 3",
   "language": "python",
   "name": "python3"
  },
  "language_info": {
   "codemirror_mode": {
    "name": "ipython",
    "version": 3
   },
   "file_extension": ".py",
   "mimetype": "text/x-python",
   "name": "python",
   "nbconvert_exporter": "python",
   "pygments_lexer": "ipython3",
   "version": "3.6.3"
  }
 },
 "nbformat": 4,
 "nbformat_minor": 1
}
