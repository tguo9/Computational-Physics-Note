{
 "cells": [
  {
   "cell_type": "markdown",
   "metadata": {},
   "source": [
    "# Topics\n",
    "\n",
    "## 1. Lists and Index Slicing"
   ]
  },
  {
   "cell_type": "code",
   "execution_count": null,
   "metadata": {},
   "outputs": [],
   "source": [
    "# If you're not familiar with syntax highlighting...\n",
    "# note the red color indicates something is wrong.  \n",
    "a = [2, 1, 3.1)    "
   ]
  },
  {
   "cell_type": "markdown",
   "metadata": {},
   "source": [
    "## Stitching lists together"
   ]
  },
  {
   "cell_type": "code",
   "execution_count": null,
   "metadata": {},
   "outputs": [],
   "source": [
    "a = [3, 4.1, 2.8, 'golden gate']\n",
    "b = ['pizza', '7.2', 1e-14]\n",
    "print(a+b)"
   ]
  },
  {
   "cell_type": "markdown",
   "metadata": {},
   "source": [
    "## Empty List (More useful than you think, as you will see later!)"
   ]
  },
  {
   "cell_type": "code",
   "execution_count": null,
   "metadata": {},
   "outputs": [],
   "source": [
    "a = []\n",
    "b = [3, 4.1, 2.8, 'golden gate', 'pizza', '7.2', 1e-14]\n",
    "print(a, b)\n",
    "print(type(a), type(b))\n",
    "print(len(a), len(b))"
   ]
  },
  {
   "cell_type": "code",
   "execution_count": null,
   "metadata": {},
   "outputs": [],
   "source": [
    "# How you can build a list from the empty list by using the append() method\n",
    "Cdegrees = [-20, -15, -5, 5, 10, 15, 20]\n",
    "Fdegrees = []  #empty list\n",
    "for C in Cdegrees:\n",
    "    F = (9.0/5)*C + 32.\n",
    "    Fdegrees.append(F)\n",
    "Fdegrees"
   ]
  },
  {
   "cell_type": "markdown",
   "metadata": {},
   "source": [
    "## Slicing lists"
   ]
  },
  {
   "cell_type": "code",
   "execution_count": null,
   "metadata": {},
   "outputs": [],
   "source": [
    "a = [3, 1, 2.5, -1.2, 9.31]\n",
    "b = a[1:3]\n",
    "b   #note b includes the 1st and the 2nd elements of a, but NOT the 3rd!"
   ]
  },
  {
   "cell_type": "code",
   "execution_count": null,
   "metadata": {},
   "outputs": [],
   "source": [
    "d = a[0:9]  # you may think you will get an error...\n",
    "d           # you don't because the last item python will include is the (5-1)th, or the 4th, element. "
   ]
  },
  {
   "cell_type": "code",
   "execution_count": null,
   "metadata": {},
   "outputs": [],
   "source": [
    "# But you will get an error here\n",
    "e = a[9]"
   ]
  },
  {
   "cell_type": "code",
   "execution_count": null,
   "metadata": {},
   "outputs": [],
   "source": [
    "#simpler way to include everything\n",
    "g = a[:]\n",
    "g"
   ]
  },
  {
   "cell_type": "code",
   "execution_count": null,
   "metadata": {},
   "outputs": [],
   "source": [
    "#the 2rd to the last element\n",
    "h = a[2:5]  # Note: a[2:4] won't do the job -- why?\n",
    "print(h)"
   ]
  },
  {
   "cell_type": "code",
   "execution_count": null,
   "metadata": {},
   "outputs": [],
   "source": [
    "#a simpler way\n",
    "l = a[2:]\n",
    "l"
   ]
  },
  {
   "cell_type": "code",
   "execution_count": null,
   "metadata": {},
   "outputs": [],
   "source": [
    "#Can you explain this?  \n",
    "p = a[2:-1]\n",
    "p"
   ]
  },
  {
   "cell_type": "code",
   "execution_count": null,
   "metadata": {},
   "outputs": [],
   "source": [
    "#and you can do this\n",
    "q = a[:3]\n",
    "q"
   ]
  },
  {
   "cell_type": "markdown",
   "metadata": {},
   "source": [
    "## What if I want every other element of a list?"
   ]
  },
  {
   "cell_type": "code",
   "execution_count": null,
   "metadata": {},
   "outputs": [],
   "source": [
    "# I want every other element between 4 and 15\n",
    "rangeobj = range(20)\n",
    "print(rangeobj)\n",
    "lst = list(rangeobj)\n",
    "print(lst)\n",
    "b = lst[4:15:2]\n",
    "print(b)"
   ]
  },
  {
   "cell_type": "markdown",
   "metadata": {},
   "source": [
    "## Note the difference between Python 2 and 3:\n",
    "\n",
    "### Python 2:        \n",
    "\n",
    "     range(5) --> a list [0, 1, 2, 3, 4]\n",
    "\n",
    "### Python 3:        \n",
    "\n",
    "    range(5) --> a range object (0, 5)"
   ]
  },
  {
   "cell_type": "markdown",
   "metadata": {},
   "source": [
    "## Mini-breakout Exercise:\n",
    "\n",
    "### What if I simply want every other element?"
   ]
  },
  {
   "cell_type": "markdown",
   "metadata": {},
   "source": [
    "## Now, since \n",
    "\n",
    "     [0:-1] \n",
    "\n",
    "## is the same as\n",
    "\n",
    "     [:]\n",
    "\n",
    "## I will now replace the former by the latter.  \n",
    "\n",
    "## I end up with this simple statement below"
   ]
  },
  {
   "cell_type": "code",
   "execution_count": null,
   "metadata": {},
   "outputs": [],
   "source": [
    "# elegant coding\n",
    "d = lst[::2]\n",
    "print(d)"
   ]
  },
  {
   "cell_type": "markdown",
   "metadata": {},
   "source": [
    "## What if I want to reverse the order of the list?"
   ]
  },
  {
   "cell_type": "code",
   "execution_count": null,
   "metadata": {},
   "outputs": [],
   "source": [
    "e = lst[::-1]\n",
    "print(e)"
   ]
  }
 ],
 "metadata": {
  "kernelspec": {
   "display_name": "Python 3",
   "language": "python",
   "name": "python3"
  },
  "language_info": {
   "codemirror_mode": {
    "name": "ipython",
    "version": 3
   },
   "file_extension": ".py",
   "mimetype": "text/x-python",
   "name": "python",
   "nbconvert_exporter": "python",
   "pygments_lexer": "ipython3",
   "version": "3.6.2"
  }
 },
 "nbformat": 4,
 "nbformat_minor": 1
}
