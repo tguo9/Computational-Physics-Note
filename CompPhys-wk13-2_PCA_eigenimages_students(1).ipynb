{
 "cells": [
  {
   "cell_type": "markdown",
   "metadata": {},
   "source": [
    "# PCA: Eigenimages"
   ]
  },
  {
   "cell_type": "code",
   "execution_count": 6,
   "metadata": {
    "collapsed": true
   },
   "outputs": [],
   "source": [
    "%matplotlib notebook\n",
    "''' Initial Imports'''\n",
    "\n",
    "import numpy as np\n",
    "import matplotlib.pyplot as plt\n",
    "from scipy import stats\n",
    "\n",
    "\n",
    "from sklearn.decomposition import PCA\n"
   ]
  },
  {
   "cell_type": "code",
   "execution_count": 7,
   "metadata": {
    "collapsed": true
   },
   "outputs": [],
   "source": [
    "'''Loading handwritten digit data'''\n",
    "from sklearn.datasets import load_digits\n",
    "dig_data = load_digits()\n",
    "dig_img = dig_data.images\n",
    "X = dig_data.data\n",
    "digits = dig_data.target\n"
   ]
  },
  {
   "cell_type": "markdown",
   "metadata": {},
   "source": [
    "## Quick Breakout\n",
    "\n",
    "### Instantiate two PCA objects: \n",
    "\n",
    "- ### one can explain at least 50% of the variance\n",
    "- ### one can explain at least 95% of the variance\n",
    "- ### determine the dimensionality of each"
   ]
  },
  {
   "cell_type": "code",
   "execution_count": 4,
   "metadata": {},
   "outputs": [
    {
     "name": "stdout",
     "output_type": "stream",
     "text": [
      "(1797, 64)\n",
      "(1797, 5)\n",
      "(1797, 29)\n"
     ]
    }
   ],
   "source": [
    "pca50 = PCA(0.5)\n",
    "pca95 = PCA(0.95)\n",
    "\n",
    "X_trans50 = pca50.fit_transform(X)\n",
    "X_trans95 = pca95.fit_transform(X)\n",
    "\n",
    "print(X.shape)\n",
    "print(X_trans50.shape)\n",
    "print(X_trans95.shape)"
   ]
  },
  {
   "cell_type": "code",
   "execution_count": 3,
   "metadata": {},
   "outputs": [
    {
     "name": "stdout",
     "output_type": "stream",
     "text": [
      "(1797, 64)\n",
      "(1797, 5)\n",
      "(1797, 29)\n"
     ]
    }
   ],
   "source": [
    "'''How many components do we need to account for 50% and 95% of the variance?'''\n",
    "\n",
    "pca50 = PCA(0.5) # keep 50% of variance\n",
    "pca95 = PCA(0.95) # keep 95% of variance\n",
    "\n",
    "X_trans50 = pca50.fit_transform(X)\n",
    "X_trans95 = pca95.fit_transform(X)\n",
    "\n",
    "print(X.shape)\n",
    "print(X_trans50.shape)\n",
    "print(X_trans95.shape)\n",
    "\n",
    "# A significant reduction of dimensionality!!"
   ]
  },
  {
   "cell_type": "markdown",
   "metadata": {},
   "source": [
    "## So what are the PCA components?  \n",
    "## Answer: Eigenimages."
   ]
  },
  {
   "cell_type": "markdown",
   "metadata": {},
   "source": [
    "## Digging Deeper: Eigenimages"
   ]
  },
  {
   "cell_type": "markdown",
   "metadata": {},
   "source": [
    "## Breakout Exercise\n",
    "\n",
    "### Show the first 20 eigenimages"
   ]
  },
  {
   "cell_type": "code",
   "execution_count": 12,
   "metadata": {
    "scrolled": false
   },
   "outputs": [
    {
     "data": {
      "text/plain": [
       "<matplotlib.image.AxesImage at 0x1c5384af390>"
      ]
     },
     "execution_count": 12,
     "metadata": {},
     "output_type": "execute_result"
    },
    {
     "data": {
      "image/png": "[encoded data removed]",
      "text/plain": [
       "<matplotlib.figure.Figure at 0x1c536bc08d0>"
      ]
     },
     "metadata": {},
     "output_type": "display_data"
    }
   ],
   "source": [
    "%matplotlib inline\n",
    "\n",
    "from sklearn.decomposition import PCA\n",
    "\n",
    "pca = PCA(n_components=3) \n",
    "pca.fit_transform(X)\n",
    "one = pca.components_[0]\n",
    "two = pca.components_[1]\n",
    "three = pca.components_[2]\n",
    "\n",
    "x_one = one.reshape((8, 8))\n",
    "x_two = two.reshape((8, 8))\n",
    "x_three = three.reshape((8, 8))\n",
    "fig, axes = plt.subplots(2, 2)\n",
    "\n",
    "axes[0,0].imshow(x_one)\n",
    "axes[0,1].imshow(x_two)\n",
    "axes[1,0].imshow(x_three)\n"
   ]
  },
  {
   "cell_type": "markdown",
   "metadata": {},
   "source": [
    "## Breakout"
   ]
  },
  {
   "cell_type": "code",
   "execution_count": 17,
   "metadata": {},
   "outputs": [
    {
     "name": "stdout",
     "output_type": "stream",
     "text": [
      "coeffs.shape (3,)\n"
     ]
    },
    {
     "ename": "TypeError",
     "evalue": "'int' object is not subscriptable",
     "output_type": "error",
     "traceback": [
      "\u001b[1;31m---------------------------------------------------------------------------\u001b[0m",
      "\u001b[1;31mTypeError\u001b[0m                                 Traceback (most recent call last)",
      "\u001b[1;32m<ipython-input-17-1e98413bf5ba>\u001b[0m in \u001b[0;36m<module>\u001b[1;34m()\u001b[0m\n\u001b[0;32m     24\u001b[0m \u001b[0mprint\u001b[0m\u001b[1;33m(\u001b[0m\u001b[1;34m'coeffs.shape'\u001b[0m\u001b[1;33m,\u001b[0m \u001b[0mcoeffs\u001b[0m\u001b[1;33m.\u001b[0m\u001b[0mshape\u001b[0m\u001b[1;33m)\u001b[0m\u001b[1;33m\u001b[0m\u001b[0m\n\u001b[0;32m     25\u001b[0m \u001b[1;32mfor\u001b[0m \u001b[0mi\u001b[0m \u001b[1;32min\u001b[0m \u001b[0mrange\u001b[0m\u001b[1;33m(\u001b[0m\u001b[0mn_comp\u001b[0m\u001b[1;33m)\u001b[0m\u001b[1;33m:\u001b[0m\u001b[1;33m\u001b[0m\u001b[0m\n\u001b[1;32m---> 26\u001b[1;33m     \u001b[0mdig_im_rec\u001b[0m \u001b[1;33m+=\u001b[0m \u001b[0mcoeffs\u001b[0m\u001b[1;33m[\u001b[0m\u001b[0mi\u001b[0m\u001b[1;33m]\u001b[0m\u001b[1;33m*\u001b[0m\u001b[0mpca_comps\u001b[0m\u001b[1;33m[\u001b[0m\u001b[0mi\u001b[0m\u001b[1;33m]\u001b[0m\u001b[1;33m.\u001b[0m\u001b[0mreshape\u001b[0m\u001b[1;33m(\u001b[0m\u001b[1;33m(\u001b[0m\u001b[1;36m8\u001b[0m\u001b[1;33m,\u001b[0m \u001b[1;36m8\u001b[0m\u001b[1;33m)\u001b[0m\u001b[1;33m)\u001b[0m\u001b[1;33m\u001b[0m\u001b[0m\n\u001b[0m\u001b[0;32m     27\u001b[0m \u001b[1;33m\u001b[0m\u001b[0m\n\u001b[0;32m     28\u001b[0m \u001b[0mfig\u001b[0m\u001b[1;33m,\u001b[0m \u001b[1;33m(\u001b[0m\u001b[0max0\u001b[0m\u001b[1;33m,\u001b[0m \u001b[0max1\u001b[0m\u001b[1;33m)\u001b[0m \u001b[1;33m=\u001b[0m \u001b[0mplt\u001b[0m\u001b[1;33m.\u001b[0m\u001b[0msubplots\u001b[0m\u001b[1;33m(\u001b[0m\u001b[1;36m1\u001b[0m\u001b[1;33m,\u001b[0m \u001b[1;36m2\u001b[0m\u001b[1;33m,\u001b[0m \u001b[0mfigsize\u001b[0m \u001b[1;33m=\u001b[0m \u001b[1;33m(\u001b[0m\u001b[1;36m6\u001b[0m\u001b[1;33m,\u001b[0m \u001b[1;36m3\u001b[0m\u001b[1;33m)\u001b[0m\u001b[1;33m)\u001b[0m\u001b[1;33m\u001b[0m\u001b[0m\n",
      "\u001b[1;31mTypeError\u001b[0m: 'int' object is not subscriptable"
     ]
    }
   ],
   "source": [
    "'''\n",
    "In this cell, I'm ONLY changing dig_idx and NOT the eigenimages!!\n",
    "\n",
    "So the only thing that's changed are the coeff's (Xproj).\n",
    "\n",
    "Now, tell me, can you recognize the digit?\n",
    "\n",
    "With 10 components\n",
    "For 0, 1, 3, 4, 8, 9 yes; 2, 5, 6 iffy; 7: sort of\n",
    "\n",
    "\n",
    "Now ask students to try using 20, and then 30, components and see how many of the first 10 digits\n",
    "can be recognized.\n",
    "\n",
    "'''\n",
    "Xproj = pca.fit_transform(X)\n",
    "n_comp = 3\n",
    "pca_comps = 64\n",
    "dig_idx = 9\n",
    "\n",
    "dig_im_rec = np.zeros((8, 8))\n",
    "coeffs = Xproj[dig_idx]\n",
    "\n",
    "print('coeffs.shape', coeffs.shape)\n",
    "for i in range(n_comp):\n",
    "    dig_im_rec += coeffs[i]*pca_comps[i].reshape((8, 8))\n",
    "\n",
    "fig, (ax0, ax1) = plt.subplots(1, 2, figsize = (6, 3))\n",
    "ax0.imshow(dig_im_rec, cmap='binary')\n",
    "ax1.imshow(dig_img[dig_idx], cmap='binary')\n",
    "\n",
    "# To turn off grid (under seaborn, the default for grid is on.)\n",
    "ax0.set_title('Reconstructed Image')\n",
    "ax0.grid(False)\n",
    "ax0.axis('off')\n",
    "\n",
    "ax1.set_title('Original Image')\n",
    "ax1.grid(False)\n",
    "ax1.axis('off')\n",
    "plt.show()"
   ]
  },
  {
   "cell_type": "markdown",
   "metadata": {},
   "source": [
    "## With Fourier decomposition, all the components (basis vectors) are orthogonal.\n",
    "\n",
    "## With PCA decomposition, all the components (basis vectors or new coordinate system axes) are _also_ orthogonal.  The components are typically referred to as eigenvectors.  \n",
    "\n",
    "## Difference between Fouirier decomposition and PCA:\n",
    "\n",
    "- ### Fourier: the basis vectors are always the same for every problem.\n",
    "\n",
    "- ### PCA: For every problem (digit recognition, facial recognition, food group recognition), it figures out an _optimal_ set of basis vectors (components, or eigenvectors, or new coordinate system axes).  Therefore a relatively small number of such eigenvectors can be used to construct a partial image that is a good enough approximation (e.g., for the purpose of recogntion).  \n",
    "\n",
    "### [Very much like a partial Fourier expansion -- think Fourier Descriptors, but this time for a 2D object, not just a 1D outline.]"
   ]
  },
  {
   "cell_type": "code",
   "execution_count": 18,
   "metadata": {},
   "outputs": [
    {
     "data": {
      "image/png": "[encoded data removed]",
      "text/plain": [
       "<matplotlib.figure.Figure at 0x1c538585c88>"
      ]
     },
     "metadata": {},
     "output_type": "display_data"
    }
   ],
   "source": [
    "'''An aside: numpy.cumsum()'''\n",
    "x = np.arange(10)\n",
    "y = np.cumsum(x)\n",
    "\n",
    "plt.plot(x, y)\n",
    "plt.show()\n"
   ]
  },
  {
   "cell_type": "markdown",
   "metadata": {},
   "source": [
    "## Breakout: Choosing the Number of Components\n",
    "\n",
    "- ### To get a sense of how much information we have thrown away by only keeping a certain number of components, we can plot the _total_ _explained variance_ as a function of the number components.\n",
    "\n",
    "- ### On the same figure draw two horizontal lines that correspond to 90% and 99% cumulative variances."
   ]
  },
  {
   "cell_type": "code",
   "execution_count": 51,
   "metadata": {},
   "outputs": [
    {
     "data": {
      "image/png": "[encoded data removed]",
      "text/plain": [
       "<matplotlib.figure.Figure at 0x1c53859a8d0>"
      ]
     },
     "metadata": {},
     "output_type": "display_data"
    },
    {
     "name": "stdout",
     "output_type": "stream",
     "text": [
      "[  1.79006930e+02   1.63717747e+02   1.41788439e+02   1.01100375e+02\n",
      "   6.95131656e+01   5.91085249e+01   5.18845391e+01   4.40151067e+01\n",
      "   4.03109953e+01   3.70117984e+01   2.85190412e+01   2.73211698e+01\n",
      "   2.19014881e+01   2.13243565e+01   1.76367222e+01   1.69468639e+01\n",
      "   1.58513899e+01   1.50044602e+01   1.22344732e+01   1.08868593e+01\n",
      "   1.06935663e+01   9.58259779e+00   9.22640260e+00   8.69036872e+00\n",
      "   8.36561190e+00   7.16577961e+00   6.91973881e+00   6.19295508e+00\n",
      "   5.88499123e+00   5.15586690e+00   4.49129656e+00   4.24687799e+00\n",
      "   4.04743883e+00   3.94340334e+00   3.70647245e+00   3.53165306e+00\n",
      "   3.08457409e+00   2.73780002e+00   2.67210896e+00   2.54170563e+00\n",
      "   2.28298744e+00   1.90724229e+00   1.81716569e+00   1.68996439e+00\n",
      "   1.40197220e+00   1.29221888e+00   1.15893419e+00   9.31220008e-01\n",
      "   6.69850594e-01   4.86065217e-01   2.52350432e-01   9.91527944e-02\n",
      "   6.31307848e-02   6.07377581e-02   3.96662297e-02   1.49505636e-02\n",
      "   8.47307261e-03   3.62365957e-03   1.27705113e-03   6.61270906e-04\n",
      "   4.12223305e-04   1.14286697e-30   1.14286697e-30   1.12542605e-30]\n"
     ]
    }
   ],
   "source": [
    "\n",
    "pca = PCA(64)\n",
    "pca50 = PCA(0.5) # keep 50% of variance\n",
    "pca95 = PCA(0.95) # keep 95% of variance\n",
    "\n",
    "X_try = pca.fit_transform(X)\n",
    "X_trans50 = pca50.fit_transform(X)\n",
    "X_trans95 = pca95.fit_transform(X)\n",
    "\n",
    "Try = pca.fit(X).explained_variance_\n",
    "x = np.arange(64)\n",
    "y = np.cumsum(Try)/pca.fit(X).explained_variance_.sum()\n",
    "\n",
    "plt.plot(x, y)\n",
    "plt.plot([0,70],[0.9,0.9],'--')\n",
    "plt.plot([0,70],[0.99,0.99],'--')\n",
    "plt.show()\n",
    "print(Try)"
   ]
  },
  {
   "cell_type": "markdown",
   "metadata": {},
   "source": [
    "## Going beyond 30 components the effort will reap only rapidly diminishing returns...\n",
    "\n",
    "# Why?\n",
    "\n",
    "## Recognizing a handwritten digit is the prototype of a problem known as classification: (handwritten) digits, English letters, flowers, supernovae, food groups, etc.\n",
    "\n",
    "## The key points to solve this problem with PCA are:\n",
    "\n",
    "- ### Mutilple observation is often needed for any kind of classification.  Coupled with the high number of dimensions each object in the data set has, this creates a problem -- sometimes this kind of problem is called \"big data.\"\n",
    "\n",
    "- ### There is often a high level of redundancy of information present in an image (neighboring pixel values are highly correlated).\n",
    "\n",
    "- ### PCA _extracts_ from these multiple observations the most relevant information for the purpose of classification: a series of eignstates that capture successively lower amount of the variances in the data, so that one often only needs to keep a far smaller number of eigenstates than the number of pixels to reconstruct the observed data and accomplish classification."
   ]
  },
  {
   "cell_type": "markdown",
   "metadata": {},
   "source": [
    "## End of Week 13-2"
   ]
  }
 ],
 "metadata": {
  "kernelspec": {
   "display_name": "Python 3",
   "language": "python",
   "name": "python3"
  },
  "language_info": {
   "codemirror_mode": {
    "name": "ipython",
    "version": 3
   },
   "file_extension": ".py",
   "mimetype": "text/x-python",
   "name": "python",
   "nbconvert_exporter": "python",
   "pygments_lexer": "ipython3",
   "version": "3.6.3"
  }
 },
 "nbformat": 4,
 "nbformat_minor": 1
}
