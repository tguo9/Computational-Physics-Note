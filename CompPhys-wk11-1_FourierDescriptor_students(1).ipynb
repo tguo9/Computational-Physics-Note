{
 "cells": [
  {
   "cell_type": "markdown",
   "metadata": {},
   "source": [
    "# Topics\n",
    "\n",
    "## 1. Fourier Descriptor  "
   ]
  },
  {
   "cell_type": "code",
   "execution_count": null,
   "metadata": {},
   "outputs": [],
   "source": [
    "%matplotlib inline\n",
    "import matplotlib.pyplot as plt\n",
    "import numpy as np\n",
    "import os\n",
    "from pdb import set_trace\n",
    "from copy import copy\n",
    "\n",
    "import matplotlib.image as mpimg"
   ]
  },
  {
   "cell_type": "code",
   "execution_count": null,
   "metadata": {},
   "outputs": [],
   "source": [
    "'''Reminder: Complex Numbers'''\n",
    "a = 1.\n",
    "b = 2.\n",
    "# It's not c = a + b*j!!\n",
    "c = a + b*1j\n",
    "\n",
    "print(c)"
   ]
  },
  {
   "cell_type": "markdown",
   "metadata": {},
   "source": [
    "## Breakout Exercise: Draw a square, by using numpy arrays and matplotlib.  You should be able to specify: \n",
    "\n",
    "- ### the number of point per side\n",
    "- ### the coordinates of the lower left corner and upper right corner\n",
    "- ###  go around the square in counter-clockwise fashion"
   ]
  },
  {
   "cell_type": "code",
   "execution_count": null,
   "metadata": {},
   "outputs": [],
   "source": []
  },
  {
   "cell_type": "markdown",
   "metadata": {},
   "source": [
    "## Fourier Descriptor (FD): FT of \n",
    "\n",
    "## $z = x + iy$, \n",
    "## where x and y are the coordinates of the outline of a shape.\n"
   ]
  },
  {
   "cell_type": "code",
   "execution_count": null,
   "metadata": {
    "scrolled": false
   },
   "outputs": [],
   "source": [
    "%matplotlib inline\n",
    "\n",
    "'''\n",
    "\n",
    "Fourier Descriptor (FD): FT of (x + 1j*y), where x and y are the coordinates \n",
    "of the outline of a shape.\n",
    "\n",
    "There is a subtle point:\n",
    "without the [filt] step there is an artifical point at (0, 0) in Fourier space\n",
    "which doesn't contribute to the reconstruction.  Note the the (0, 0) point is \n",
    "completely artificial -- the first 0 does NOT correspond to 0 freq, but instead\n",
    "it's the result of k*filt!\n",
    "\n",
    "\n",
    "'''\n",
    "\n",
    "\n",
    "import numpy as np\n",
    "N = len(x)\n",
    "\n",
    "z = x + y*1j\n",
    "\n",
    "Z = np.fft.fft(z)\n",
    "# spatial resolution \n",
    "d = sz / num_pts\n",
    "print('Spatial interval: {:.4f}'.format(d))\n",
    "k = np.fft.fftfreq(len(z), d = d)\n",
    "\n",
    "# \"fundamental frequency\" (lowest possible spatial frequency): 1/circumference\n",
    "# this is equivalent to f1 = 1/T for sound\n",
    "k_lo = 1/(4*sz)\n",
    "print(\"lowest possible (non-zero) frequency: {:.4f}\".format(k_lo))\n",
    "\n",
    "\n",
    "# Sampling rate and Nyquist frequency\n",
    "sr = 1/d\n",
    "print(\"Sampling rate: {:.4f}\".format(sr))\n",
    "k_hi = sr/2\n",
    "print(\"Highest possible (Nyquist) frequency: {:.4f}\".format(k_hi))\n",
    "\n",
    "\n",
    "\n",
    "order_keep = 5\n",
    "k_keep = order_keep*k_lo\n",
    "filt = np.abs(k) <= k_keep\n",
    "print(\"Highest k kept:{:.4f}\".format(k_keep))\n",
    "print(\"FD components kept:{:d}\".format(filt.sum()))\n",
    "\n",
    "plt.title('FD filter')\n",
    "plt.plot(k, filt, 'r.' )\n",
    "plt.xlim(-k_keep*3, k_keep*3)\n",
    "plt.ylim(-1, 2)\n",
    "plt.show()\n",
    "\n",
    "\n",
    "# Recovery -- note how things change with more and more Fourier components included\n",
    "# Note: \n",
    "# 1. How few components are needed to recover the basic shape\n",
    "# 2. A *lot* of fourier components go into get the sharp corners right!  \n",
    "# (Get those right require high freq terms; but they are not necessary for \n",
    "# pattern recognition.)\n",
    "\n",
    "Z *= filt\n",
    "k *= filt\n",
    "\n",
    "# note the order: from 0 to the highest frequency,\n",
    "# then highest negative frequency down to lowest negative frequency\n",
    "print(\"k after filtering: \", k[filt])\n",
    "\n",
    "plt.figure(figsize = (5, 5))\n",
    "plt.title('FD real')\n",
    "plt.plot(k[filt], Z.real[filt], 'b.')\n",
    "plt.xlim([-k_keep*1.1, k_keep*1.1])\n",
    "plt.xlabel('k (spatial frequency)')\n",
    "plt.ylabel('Real part of the Fourier components')\n",
    "# plt.xlim([-1, 1])\n",
    "# plt.ylim([-100, 100])\n",
    "\n",
    "\n",
    "plt.figure()\n",
    "plt.title('FD imag')\n",
    "plt.plot(k[filt], Z.imag[filt], 'g.')\n",
    "plt.xlim([-k_keep*1.1, k_keep*1.1])\n",
    "plt.xlabel('k (spatial frequency)')\n",
    "plt.ylabel('Imaginary part of the Fourier components')\n",
    "\n",
    "# plt.xlim([-1, 1])\n",
    "# plt.ylim([-100, 100])\n",
    "\n",
    "z_rec = np.fft.ifft(Z)\n",
    "\n",
    "x_rec = z_rec.real\n",
    "y_rec = z_rec.imag\n",
    "\n",
    "plt.figure(figsize = (5, 5))\n",
    "plt.plot(x_rec, y_rec, 'b.')\n",
    "plt.show()\n",
    "\n"
   ]
  },
  {
   "cell_type": "markdown",
   "metadata": {},
   "source": [
    "## Breakout Exercise: Write the following 4 useful functions:\n",
    "\n",
    "### 1. FD(x, y, plot_FD = False, y_lim = None) \n",
    "- ###     if plot_FD is True, plot the real and imaginary parts of FD on the same figure.\n",
    "- ###     if y_lim is None, autoscale.  If it's specified, then set the vertical scale to be between              -y_lim and +y_lim.\n",
    "- ###     returns Z (i.e., the FD's) and k (the spatial frequency).\n",
    "\n",
    "### 2. filt_FD(Z, k, k_keep) \n",
    "- ###      returns Z\\*filt, k\\*filt.  The truth table of filt depends on k_keep, of course.\n",
    "\n",
    "### 3. recover_shape(Z)\n",
    "### 4. plot_shape(x, y, plot_style = 'b.'):\n",
    "\n"
   ]
  },
  {
   "cell_type": "code",
   "execution_count": null,
   "metadata": {},
   "outputs": [],
   "source": []
  },
  {
   "cell_type": "code",
   "execution_count": null,
   "metadata": {},
   "outputs": [],
   "source": [
    "'''\n",
    "\n",
    "Check to see if the functinos in breakout1 work.\n",
    "\n",
    "To emphasize:\n",
    "\n",
    "- 0th order: average (or sum, depending on DFT convention adopted) \n",
    "of all points\n",
    "\n",
    "'''\n",
    "#************************************Main Program*************************************\n",
    "# Note: this is how most programs should be written.\n",
    "Z, k = FD(x, y, plot_FD=True, y_lim = 10)\n",
    "k_lo = np.abs(k[np.argsort(np.abs(k))][1])\n",
    "print(k_lo)\n",
    "order_keep = 1\n",
    "Z_filt, k = filt_FD(Z, k, order_keep*k_lo)\n",
    "x_rec, y_rec = recover_shape(Z_filt)\n",
    "plot_shape(x_rec, y_rec)\n"
   ]
  },
  {
   "cell_type": "markdown",
   "metadata": {},
   "source": [
    "## Breakout Exercise:\n",
    "\n",
    "### Draw a square whose edges have noise"
   ]
  },
  {
   "cell_type": "code",
   "execution_count": null,
   "metadata": {},
   "outputs": [],
   "source": [
    "'''\n",
    "Breakout Exercise:\n",
    "\n",
    "Noisy square\n",
    "'''\n",
    "\n",
    "\n",
    "import numpy as np\n",
    "import matplotlib.pyplot as plt\n",
    "\n",
    "num_pts = 100\n",
    "sz = 10\n",
    "noiz_sz = 0.1\n",
    "\n",
    "x1 = np.linspace(1, sz, num_pts)\n",
    "x2 = np.ones(num_pts)*sz\n",
    "x3 = np.linspace(sz, 1, num_pts)\n",
    "x4 = np.ones(num_pts)\n",
    "x = np.concatenate((x1, x2, x3, x4))\n",
    "x += np.random.randn(len(x))*noiz_sz\n",
    "\n",
    "\n",
    "\n",
    "y1 = np.ones(num_pts)\n",
    "y2 = np.linspace(1, sz, num_pts)\n",
    "y3 = np.ones(num_pts)*sz\n",
    "y4 = np.linspace(sz, 1, num_pts)\n",
    "y = np.concatenate((y1, y2, y3, y4))\n",
    "y += np.random.randn(len(y))*noiz_sz\n",
    "\n",
    "\n",
    "plot_shape(x, y, title = 'Noisy Square')\n",
    "\n"
   ]
  },
  {
   "cell_type": "code",
   "execution_count": null,
   "metadata": {},
   "outputs": [],
   "source": [
    "Z, k = FD(x, y, plot_FD=True, y_lim = 10)\n",
    "Z_filt, k_filt = filt_FD(Z, k, 3*k_lo)\n",
    "x_rec, y_rec = recover_shape(Z_filt)\n",
    "plot_shape(x_rec, y_rec)\n"
   ]
  },
  {
   "cell_type": "markdown",
   "metadata": {},
   "source": [
    "## End of week11-1"
   ]
  }
 ],
 "metadata": {
  "kernelspec": {
   "display_name": "Python 3",
   "language": "python",
   "name": "python3"
  },
  "language_info": {
   "codemirror_mode": {
    "name": "ipython",
    "version": 3
   },
   "file_extension": ".py",
   "mimetype": "text/x-python",
   "name": "python",
   "nbconvert_exporter": "python",
   "pygments_lexer": "ipython3",
   "version": "3.6.5"
  }
 },
 "nbformat": 4,
 "nbformat_minor": 1
}
