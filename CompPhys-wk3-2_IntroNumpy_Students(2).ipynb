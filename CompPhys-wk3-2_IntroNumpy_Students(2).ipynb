{
 "cells": [
  {
   "cell_type": "markdown",
   "metadata": {},
   "source": [
    "# Topics\n",
    "\n",
    "## 1. Representation Errors\n",
    "## 2. Arrays and Numpy\n",
    "## 3. Matplotlib"
   ]
  },
  {
   "cell_type": "code",
   "execution_count": 1,
   "metadata": {
    "collapsed": true
   },
   "outputs": [],
   "source": [
    "import math\n",
    "\n",
    "# New import.  Typically:\n",
    "import numpy as np\n"
   ]
  },
  {
   "cell_type": "markdown",
   "metadata": {},
   "source": [
    "# - Can save code in notebook as .py: File --> Download as-->Python(.py)\n",
    "\n",
    "- How to write raw text (instead of code) in cells."
   ]
  },
  {
   "cell_type": "markdown",
   "metadata": {},
   "source": [
    "## Representation Error\n",
    "\n",
    "- ### 1/3 does NOT have an exact representation in the digital system using a finite number of digits\n",
    "\n",
    "- ### 0.1 does NOT have an exact representation in the digital system using a finite number of bits"
   ]
  },
  {
   "cell_type": "code",
   "execution_count": 2,
   "metadata": {},
   "outputs": [
    {
     "data": {
      "text/plain": [
       "True"
      ]
     },
     "execution_count": 2,
     "metadata": {},
     "output_type": "execute_result"
    }
   ],
   "source": [
    "# check this out:\n",
    "0.10000000000000001 == 0.10"
   ]
  },
  {
   "cell_type": "code",
   "execution_count": 3,
   "metadata": {},
   "outputs": [
    {
     "data": {
      "text/plain": [
       "'0.1000000000'"
      ]
     },
     "execution_count": 3,
     "metadata": {},
     "output_type": "execute_result"
    }
   ],
   "source": [
    "format(0.1, '.10f')"
   ]
  },
  {
   "cell_type": "code",
   "execution_count": 5,
   "metadata": {},
   "outputs": [
    {
     "data": {
      "text/plain": [
       "'0.1000000000000000'"
      ]
     },
     "execution_count": 5,
     "metadata": {},
     "output_type": "execute_result"
    }
   ],
   "source": [
    "format(0.1, '.16f')"
   ]
  },
  {
   "cell_type": "code",
   "execution_count": 9,
   "metadata": {},
   "outputs": [
    {
     "data": {
      "text/plain": [
       "'0.10000000000000001'"
      ]
     },
     "execution_count": 9,
     "metadata": {},
     "output_type": "execute_result"
    }
   ],
   "source": [
    "# below you will see why you get about 16 significant figures that are accurate, \n",
    "# but not beyond.\n",
    "format(0.1, '.17f')"
   ]
  },
  {
   "cell_type": "markdown",
   "metadata": {},
   "source": [
    "## These days, usually one doesn't have to worry about it.  \n",
    "\n",
    "### For more:\n",
    "\n",
    "https://docs.python.org/3/tutorial/floatingpoint.html#representation-error\n",
    "\n",
    "\"Almost all machines today (November 2000) use IEEE-754 floating point arithmetic, and almost all platforms map Python floats to IEEE-754 “double precision”. 754 doubles contain 53 bits of precision\"\n",
    "\n",
    "### 2^53 ~ 1e16 --> this roughly translates to 16 significant figures of accurarcy"
   ]
  },
  {
   "cell_type": "markdown",
   "metadata": {},
   "source": [
    "## Numpy Arrays"
   ]
  },
  {
   "cell_type": "markdown",
   "metadata": {},
   "source": [
    "An array object can be viewed as a variant of a list, but with the following assumptions and features: \n",
    "\n",
    "• All elements must be of the same type, usually integers, real or complex numbers, or strings, for efficient numerical computing and storage. \n",
    "\n",
    "• The number of elements must be known when the array is created. \n",
    "\n",
    "• Arrays are not part of standard Python - one needs an additional package called Numerical Python, often abbreviated as NumPy. The Python name of the package, to be used in import statements, is numpy. \n",
    "\n",
    "• With numpy, a wide range of mathematical operations can be done on the entire array, thereby removing the need for loops over array elements. This is commonly called vectorization and may cause a dramatic speed-up of Python programs (and greatly enhance the readability of your code). \n",
    "\n",
    "• Arrays with one index are often called vectors. Arrays with two indices are used as an efficient data structure for tables, instead of lists of lists. Arrays can also have three or more indices.\n"
   ]
  },
  {
   "cell_type": "code",
   "execution_count": 10,
   "metadata": {},
   "outputs": [
    {
     "data": {
      "text/plain": [
       "False"
      ]
     },
     "execution_count": 10,
     "metadata": {},
     "output_type": "execute_result"
    }
   ],
   "source": [
    "(0.1 + 0.1 + 0.1) == 0.3"
   ]
  },
  {
   "cell_type": "code",
   "execution_count": 11,
   "metadata": {},
   "outputs": [
    {
     "name": "stdout",
     "output_type": "stream",
     "text": [
      "0.30000000000000004\n",
      "0.3\n",
      "False\n"
     ]
    }
   ],
   "source": [
    "# same representation error for numpy\n",
    "arr2 = np.array([0.1, 0.1, 0.1, 0.3])\n",
    "sum0to2 = arr2[0] + arr2[1] + arr2[2] \n",
    "elem3 = arr2[3]\n",
    "\n",
    "print(sum0to2)\n",
    "print(elem3)\n",
    "print(sum0to2 == elem3)"
   ]
  },
  {
   "cell_type": "markdown",
   "metadata": {},
   "source": [
    "## Numpy vs. List Comprehension.  Numpy is\n",
    "\n",
    "- ### Faster\n",
    "- ### Syntactically more intuitive"
   ]
  },
  {
   "cell_type": "code",
   "execution_count": 15,
   "metadata": {},
   "outputs": [
    {
     "name": "stdout",
     "output_type": "stream",
     "text": [
      "<class 'range'> <class 'numpy.ndarray'>\n",
      "[ 1  2  3  4  5  6  7  8  9 10 11 12 13 14 15 16 17 18 19 20 21 22 23 24\n",
      " 25 26 27 28 29 30 31 32 33 34 35 36 37 38 39 40 41 42 43 44 45 46 47 48\n",
      " 49 50 51 52 53 54 55 56 57 58 59 60 61 62 63 64 65 66 67 68 69 70 71 72\n",
      " 73 74 75 76 77 78 79 80 81 82 83 84 85 86 87 88 89 90 91 92 93 94 95 96\n",
      " 97 98 99]\n"
     ]
    }
   ],
   "source": [
    "# turning a list into a numpy array\n",
    "r = range(1, 100)\n",
    "a = np.array(r)   # a is an array; or in the CS lingo: a vector.\n",
    "print(type(r), type(a))\n",
    "print(a)"
   ]
  },
  {
   "cell_type": "code",
   "execution_count": 16,
   "metadata": {},
   "outputs": [
    {
     "name": "stdout",
     "output_type": "stream",
     "text": [
      "20.7 µs ± 336 ns per loop (mean ± std. dev. of 7 runs, 10000 loops each)\n"
     ]
    }
   ],
   "source": [
    "%timeit [math.sin(x) for x in r]"
   ]
  },
  {
   "cell_type": "code",
   "execution_count": 17,
   "metadata": {},
   "outputs": [
    {
     "name": "stdout",
     "output_type": "stream",
     "text": [
      "3.56 µs ± 60.7 ns per loop (mean ± std. dev. of 7 runs, 100000 loops each)\n"
     ]
    }
   ],
   "source": [
    "%timeit np.sin(a)"
   ]
  },
  {
   "cell_type": "markdown",
   "metadata": {},
   "source": [
    "## Useful Numpy Functions"
   ]
  },
  {
   "cell_type": "code",
   "execution_count": 18,
   "metadata": {},
   "outputs": [
    {
     "name": "stdout",
     "output_type": "stream",
     "text": [
      "[0. 0. 0. 0. 0. 0. 0. 0. 0. 0.] <class 'numpy.ndarray'>\n"
     ]
    }
   ],
   "source": [
    "b = np.zeros(10)  \n",
    "print(b, type(b))"
   ]
  },
  {
   "cell_type": "code",
   "execution_count": 19,
   "metadata": {},
   "outputs": [
    {
     "name": "stdout",
     "output_type": "stream",
     "text": [
      "[1. 1. 1. 1. 1. 1. 1. 1. 1. 1.] <class 'numpy.ndarray'>\n"
     ]
    }
   ],
   "source": [
    "c = np.ones(10)  \n",
    "print(c, type(c))"
   ]
  },
  {
   "cell_type": "code",
   "execution_count": 20,
   "metadata": {},
   "outputs": [
    {
     "name": "stdout",
     "output_type": "stream",
     "text": [
      "[ 1.   1.6  2.2  2.8  3.4  4.   4.6  5.2  5.8  6.4  7.   7.6  8.2  8.8\n",
      "  9.4 10.  10.6 11.2 11.8 12.4] <class 'numpy.ndarray'>\n",
      "20\n"
     ]
    }
   ],
   "source": [
    "# note: linspace is inclusive at BOTH ends\n",
    "d = np.linspace(1, 12.4, 20)\n",
    "print(d, type(d))\n",
    "print(len(d))"
   ]
  },
  {
   "cell_type": "code",
   "execution_count": 27,
   "metadata": {},
   "outputs": [
    {
     "name": "stdout",
     "output_type": "stream",
     "text": [
      "0.0\n",
      "1.0\n"
     ]
    }
   ],
   "source": [
    "# accessing an individual element of an array\n",
    "a = np.zeros(10)\n",
    "print(a[2])\n",
    "a[2] = 1\n",
    "print(a[2])"
   ]
  },
  {
   "cell_type": "markdown",
   "metadata": {},
   "source": [
    "## Array Index Slicing (just like for lists)"
   ]
  },
  {
   "cell_type": "code",
   "execution_count": 28,
   "metadata": {},
   "outputs": [
    {
     "name": "stdout",
     "output_type": "stream",
     "text": [
      "[0 1 2 3 4 5 6 7 8 9]\n",
      "[1 2 3 4 5 6 7 8]\n"
     ]
    }
   ],
   "source": [
    "a = np.array(range(10))\n",
    "b = a[1:-1]\n",
    "print(a)\n",
    "print(b)"
   ]
  },
  {
   "cell_type": "code",
   "execution_count": null,
   "metadata": {
    "collapsed": true
   },
   "outputs": [],
   "source": []
  },
  {
   "cell_type": "markdown",
   "metadata": {},
   "source": [
    "## Mini-breakout Exercise\n",
    "\n",
    "### Initialize a numpy array of 100 evenly distributed numbers between 0.1 and 2 (inclusive); call it x.\n",
    "- ### For all the values in x, find $$y = e^x$$\n",
    "\n",
    "### call the resulting array y.\n",
    "  \n",
    "\n",
    "\n",
    "- ### Print the arrays x and y."
   ]
  },
  {
   "cell_type": "code",
   "execution_count": 33,
   "metadata": {},
   "outputs": [
    {
     "name": "stdout",
     "output_type": "stream",
     "text": [
      "[1.10517092 1.12658611 1.14841627 1.17066944 1.19335382 1.21647775\n",
      " 1.24004977 1.26407855 1.28857293 1.31354196 1.33899481 1.36494087\n",
      " 1.3913897  1.41835103 1.4458348  1.47385112 1.50241033 1.53152294\n",
      " 1.56119967 1.59145146 1.62228944 1.65372497 1.68576965 1.71843526\n",
      " 1.75173384 1.78567765 1.82027921 1.85555124 1.89150676 1.92815899\n",
      " 1.96552144 2.00360788 2.04243233 2.08200908 2.12235273 2.16347813\n",
      " 2.20540042 2.24813506 2.29169777 2.33610462 2.38137194 2.42751642\n",
      " 2.47455506 2.52250518 2.57138443 2.62121084 2.67200274 2.72377886\n",
      " 2.77655825 2.83036036 2.88520501 2.9411124  2.99810313 3.05619818\n",
      " 3.11541895 3.17578725 3.23732533 3.30005585 3.36400192 3.42918709\n",
      " 3.49563536 3.56337123 3.63241963 3.70280599 3.77455626 3.84769685\n",
      " 3.9222547  3.99825728 4.07573258 4.15470914 4.23521606 4.31728297\n",
      " 4.40094012 4.48621832 4.57314897 4.6617641  4.75209636 4.844179\n",
      " 4.93804595 5.03373179 5.13127176 5.23070179 5.3320585  5.43537923\n",
      " 5.54070203 5.64806569 5.75750978 5.86907458 5.98280122 6.09873156\n",
      " 6.21690831 6.33737501 6.46017602 6.58535659 6.7129628  6.84304168\n",
      " 6.97564113 7.11081    7.24859807 7.3890561 ]\n"
     ]
    }
   ],
   "source": [
    "a = np.exp(np.linspace(0.1, 2, 100))\n",
    "\n",
    "print(a)"
   ]
  },
  {
   "cell_type": "markdown",
   "metadata": {},
   "source": [
    "## End of wk4-1"
   ]
  }
 ],
 "metadata": {
  "kernelspec": {
   "display_name": "Python 3",
   "language": "python",
   "name": "python3"
  },
  "language_info": {
   "codemirror_mode": {
    "name": "ipython",
    "version": 3
   },
   "file_extension": ".py",
   "mimetype": "text/x-python",
   "name": "python",
   "nbconvert_exporter": "python",
   "pygments_lexer": "ipython3",
   "version": "3.6.3"
  }
 },
 "nbformat": 4,
 "nbformat_minor": 1
}
