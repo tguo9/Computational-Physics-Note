{
 "cells": [
  {
   "cell_type": "markdown",
   "metadata": {},
   "source": [
    "# Topics\n",
    "\n",
    "## 1. Relaxation Method\n"
   ]
  },
  {
   "cell_type": "code",
   "execution_count": 10,
   "metadata": {
    "collapsed": true
   },
   "outputs": [],
   "source": [
    "import numpy as np\n",
    "import matplotlib.pyplot as plt\n",
    "from pdb import set_trace"
   ]
  },
  {
   "cell_type": "code",
   "execution_count": 2,
   "metadata": {
    "collapsed": true
   },
   "outputs": [],
   "source": [
    "'''\n",
    "\n",
    "From wk6-1\n",
    "Breakout Solution -- version 1\n",
    "'''\n",
    "\n",
    "def solve_eqn(M, b):\n",
    "    try: \n",
    "        Minv = M.I\n",
    "    except:\n",
    "        print('Singular Matrix: No inverse.')\n",
    "        return\n",
    "    else:\n",
    "        return np.dot(Minv, b)"
   ]
  },
  {
   "cell_type": "code",
   "execution_count": 3,
   "metadata": {
    "collapsed": true
   },
   "outputs": [],
   "source": [
    "M3 = np.matrix([[-3. , -5., 1.], [9. ,14., 1.],  [18., 29., -2.]])"
   ]
  },
  {
   "cell_type": "code",
   "execution_count": 4,
   "metadata": {},
   "outputs": [
    {
     "name": "stdout",
     "output_type": "stream",
     "text": [
      "The matrix:\n",
      " [[ -3.  -5.   1.]\n",
      " [  9.  14.   1.]\n",
      " [ 18.  29.  -2.]]\n",
      "The diagonal elements:\n",
      " [ -3.  14.  -2.]\n",
      "The diagonal matrix:\n",
      " [[ -3.   0.   0.]\n",
      " [  0.  14.   0.]\n",
      " [  0.   0.  -2.]]\n"
     ]
    }
   ],
   "source": [
    "'''How to extract the diagonal part of a matrix'''\n",
    "\n",
    "D3 = np.diag(M3)\n",
    "print(\"The matrix:\\n\", M3)\n",
    "print(\"The diagonal elements:\\n\", D3)\n",
    "\n",
    "# Returns True if two arrays are element-wise equal \n",
    "# within a tolerance.\n",
    "# A bit like the Python built-in .any() or .all() methods.\n",
    "print(\"The diagonal matrix:\\n\", np.diagflat(D3))\n"
   ]
  },
  {
   "cell_type": "code",
   "execution_count": 5,
   "metadata": {},
   "outputs": [
    {
     "name": "stdout",
     "output_type": "stream",
     "text": [
      "[[-3. -5.  1.]]\n",
      "[[-3. -5.  1.]]\n"
     ]
    }
   ],
   "source": [
    "'''\n",
    "index slicing for matrice: the 0th row\n",
    "'''\n",
    "print(M3[0,:])\n",
    "print(M3[0,])"
   ]
  },
  {
   "cell_type": "code",
   "execution_count": 6,
   "metadata": {},
   "outputs": [
    {
     "name": "stdout",
     "output_type": "stream",
     "text": [
      "[[ 1.]\n",
      " [ 1.]\n",
      " [-2.]]\n"
     ]
    }
   ],
   "source": [
    "'''\n",
    "index slicing for matrice: the 2nd column\n",
    "'''\n",
    "print(M3[:, 2])\n",
    "# print(M3[, 2])"
   ]
  },
  {
   "cell_type": "code",
   "execution_count": 32,
   "metadata": {},
   "outputs": [
    {
     "data": {
      "text/plain": [
       "array([[ 0.69392127,  0.33802847,  0.2705526 ],\n",
       "       [ 0.87478634,  0.62936336,  0.96347493]])"
      ]
     },
     "execution_count": 32,
     "metadata": {},
     "output_type": "execute_result"
    }
   ],
   "source": [
    "randmat = np.random.rand(2, 3)\n",
    "randmat"
   ]
  },
  {
   "cell_type": "code",
   "execution_count": 8,
   "metadata": {},
   "outputs": [
    {
     "data": {
      "text/plain": [
       "(3, 3)"
      ]
     },
     "execution_count": 8,
     "metadata": {},
     "output_type": "execute_result"
    }
   ],
   "source": [
    "M3.shape"
   ]
  },
  {
   "cell_type": "code",
   "execution_count": 40,
   "metadata": {},
   "outputs": [
    {
     "data": {
      "text/plain": [
       "array([[ 0.23283043,  0.66807508,  0.86680419],\n",
       "       [ 0.13808438,  0.79616999,  0.88157498],\n",
       "       [ 0.81401386,  0.54925548,  0.50032151]])"
      ]
     },
     "execution_count": 40,
     "metadata": {},
     "output_type": "execute_result"
    }
   ],
   "source": [
    "np.random.rand(M3.shape[0], M3.shape[1])"
   ]
  },
  {
   "cell_type": "markdown",
   "metadata": {},
   "source": [
    "## Quiz:\n",
    "### What's a better way to do \n",
    "\n",
    "     np.random.rand(M3.shape[0], M3.shape[1])"
   ]
  },
  {
   "cell_type": "code",
   "execution_count": 50,
   "metadata": {},
   "outputs": [
    {
     "name": "stdout",
     "output_type": "stream",
     "text": [
      "M3:\n",
      " [[ -3.  -5.   1.]\n",
      " [  9.  14.   1.]\n",
      " [ 18.  29.  -2.]]\n",
      "M4:\n",
      " [[ -2.999992    -4.99993114   1.0000143 ]\n",
      " [  9.00006067  14.00005361   1.00003084]\n",
      " [ 18.00001116  29.00000153  -1.9999097 ]]\n",
      "Are M3 and M4 the same within a specified tolerance: True\n"
     ]
    }
   ],
   "source": [
    "'''Compare Matrices'''\n",
    "\n",
    "epsilon = 1e-4*np.random.rand(*M3.shape)\n",
    "\n",
    "                              \n",
    "M4 = M3 + epsilon\n",
    "\n",
    "print(\"M3:\\n\", M3)\n",
    "print(\"M4:\\n\", M4)\n",
    "\n",
    "tol = 1e-3\n",
    "print(\"Are M3 and M4 the same within a specified tolerance:\", \\\n",
    "      np.allclose(M3, M4, rtol = tol))"
   ]
  },
  {
   "cell_type": "markdown",
   "metadata": {},
   "source": [
    "## 2. Relaxation Method and the Laplace Equation.\n",
    "\n",
    "\n",
    "### The name, \"Relaxation Method\":\n",
    "\n",
    "### For example, for the diffusion equation, an initial temperature distribution $u(x, t)$ \"relaxes\" to an equilibrium solution as $t \\to \\infty$.\n",
    "\n",
    "(See Numerical Recipes 3rd. Ed. p. 1059)"
   ]
  },
  {
   "cell_type": "markdown",
   "metadata": {},
   "source": [
    "## Relaxation Methods: The Jacobi Method\n",
    "### Solving a linear set of equations"
   ]
  },
  {
   "cell_type": "markdown",
   "metadata": {},
   "source": [
    "## Breakout Exercise -- The Jacobi Method Part I:\n",
    "\n",
    "### Given\n",
    "\n",
    "\n",
    "$A = \\begin{bmatrix}\n",
    " 10 & -1 & 2 & 0 \\\\\n",
    " -1 & 11 & -1 & 3 \\\\\n",
    " 2 & -1 & 10 & -1 \\\\\n",
    " 0 & 3 & -1 & 8 \\\\\n",
    "\\end{bmatrix}$\n",
    "\n",
    "## and\n",
    "\n",
    "$b = \\begin{bmatrix}\n",
    " 6 \\\\\n",
    " 25 \\\\\n",
    " -11 \\\\\n",
    " 15 \\\\\n",
    "\\end{bmatrix}$\n",
    "\n",
    "\n",
    "## Find a way to print:\n",
    "    System of Linear Equations:\n",
    "    10.0*x1 + -1.0*x2 + 2.0*x3 + 0.0*x4=6.0\n",
    "    -1.0*x1 + 11.0*x2 + -1.0*x3 + 3.0*x4=25.0\n",
    "    2.0*x1 + -1.0*x2 + 10.0*x3 + -1.0*x4=-11.0\n",
    "    0.0*x1 + 3.0*x2 + -1.0*x3 + 8.0*x4=15.0\n",
    "    \n",
    "## _Hint_: Use list comprehension to create a formatted string for the terms for each row, and then use string method to insert the \"+\" sign."
   ]
  },
  {
   "cell_type": "code",
   "execution_count": 12,
   "metadata": {},
   "outputs": [],
   "source": [
    "A = np.matrix([[10., -1., 2., 0], [-1. ,11., -1., 3.], [2. ,-1., 10., -1.],  [0, 3., -1., 8]])\n",
    "b = np.array([6., 25., -11., 15.])"
   ]
  },
  {
   "cell_type": "code",
   "execution_count": 13,
   "metadata": {},
   "outputs": [
    {
     "name": "stdout",
     "output_type": "stream",
     "text": [
      "System of Linear Equations:\n",
      "10.0*x1 + -1.0*x2 + 2.0*x3 + 0.0*x4=6.0\n",
      "-1.0*x1 + 11.0*x2 + -1.0*x3 + 3.0*x4=25.0\n",
      "2.0*x1 + -1.0*x2 + 10.0*x3 + -1.0*x4=-11.0\n",
      "0.0*x1 + 3.0*x2 + -1.0*x3 + 8.0*x4=15.0\n"
     ]
    }
   ],
   "source": [
    "print(\"System of Linear Equations:\")\n",
    "\n",
    "for i in range(A.shape[0]):\n",
    "    row = [\"{}*x{}\".format(A[i, j], j + 1) for j in range(A.shape[1])]\n",
    "    print(\" + \".join(row) + \"=\" + str(b[i]))"
   ]
  },
  {
   "cell_type": "code",
   "execution_count": 8,
   "metadata": {},
   "outputs": [
    {
     "name": "stdout",
     "output_type": "stream",
     "text": [
      "(4,)\n",
      "(1, 4)\n",
      "[ 0  2 -1  5]\n",
      "[[ 0]\n",
      " [ 2]\n",
      " [-1]\n",
      " [ 5]]\n",
      "[ True  True  True  True]\n"
     ]
    }
   ],
   "source": [
    "'''\n",
    "Differences between np.array and np.matrix:\n",
    "\n",
    "- certain methods only apply to np.matrix objects\n",
    "- np.matrix is always a 2D object, with *two* indices -- even for a column matrix;\n",
    "  but np.array, a 1D array only has one index: see examples below\n",
    "\n",
    "'''\n",
    "\n",
    "\n",
    "v_arr = np.array([0, 2, -1, 5])\n",
    "v_col_mat = np.matrix([0, 2, -1, 5])\n",
    "\n",
    "print(v_arr.shape)\n",
    "print(v_col_mat.shape)\n",
    "\n",
    "print(v_arr.T)\n",
    "print(v_col_mat.T)\n",
    "\n",
    "print(v_arr.T == v_arr)\n"
   ]
  },
  {
   "cell_type": "markdown",
   "metadata": {},
   "source": [
    "## Breakout Exercise -- The Jacobi Method Part II:\n",
    "\n",
    "- ### Use the Jacobi Method to solve this set of linear equation\n",
    "- ### Specify a tolerance, tol, and a maximum amount of iterations to take, max_iter.\n",
    "- ### Use simple matrix inversion to verify your answer"
   ]
  },
  {
   "cell_type": "code",
   "execution_count": 26,
   "metadata": {},
   "outputs": [
    {
     "name": "stdout",
     "output_type": "stream",
     "text": [
      "[[ 1.]\n",
      " [ 2.]\n",
      " [-1.]\n",
      " [ 1.]]\n",
      "[[  6.]\n",
      " [ 25.]\n",
      " [-11.]\n",
      " [ 15.]]\n"
     ]
    }
   ],
   "source": [
    "A = np.matrix([[10., -1., 2., 0], [-1. ,11., -1., 3.], [2. ,-1., 10., -1.],  [0, 3., -1., 8]])\n",
    "b = np.matrix([6., 25., -11., 15.])\n",
    "\n",
    "def jacobi(A, b, max_iter=25, tol = 1e-6, x1 = 0, x2 = 0, x = 0):\n",
    "    D = np.matrix(np.diagflat(np.diag(A)))\n",
    "    R = A - D\n",
    "\n",
    "    x = np.dot(D.I, b.T)\n",
    "#     print(x)\n",
    "#     print(b.T)\n",
    "#     print(np.dot(R,x.T))\n",
    "    \n",
    "    for i in range(max_iter):\n",
    "        x = np.dot(D.I, (b.T - np.dot(R,x)))\n",
    "    return x\n",
    "    \n",
    "x = jacobi(A, b)\n",
    "print(x)\n",
    "\n",
    "print(np.dot(A, x))"
   ]
  },
  {
   "cell_type": "markdown",
   "metadata": {},
   "source": [
    "## Relaxation Methods: The Laplace Equation\n"
   ]
  },
  {
   "cell_type": "markdown",
   "metadata": {},
   "source": [
    "More at http://en.wikipedia.org/wiki/Relaxation_(iterative_method)"
   ]
  },
  {
   "cell_type": "code",
   "execution_count": 1,
   "metadata": {},
   "outputs": [
    {
     "name": "stdout",
     "output_type": "stream",
     "text": [
      "[ 0.          0.09999645  0.19999358  0.2999916   0.39999061  0.49999061\n",
      "  0.5999915   0.69999313  0.79999525  0.89999763  1.        ]\n"
     ]
    },
    {
     "data": {
      "image/png": "[encoded data removed]",
      "text/plain": [
       "<matplotlib.figure.Figure at 0x10349f828>"
      ]
     },
     "metadata": {},
     "output_type": "display_data"
    }
   ],
   "source": [
    "%matplotlib inline\n",
    "'''Relaxation Method: One dimensional example'''\n",
    "import numpy as np\n",
    "import matplotlib.pyplot as plt\n",
    "\n",
    "NX = 11\n",
    "\n",
    "#initialization\n",
    "V = np.zeros(NX)\n",
    "\n",
    "\n",
    "#Boundary Conditions:\n",
    "V[NX-1] = 1.\n",
    "V[0] = 0\n",
    "maxdiff = 1e-6\n",
    "diff = 1\n",
    "x = np.arange(NX)\n",
    "\n",
    "while diff > maxdiff:\n",
    "    diff = 0.         #crucial!!\n",
    "    # start from 1 and end at NX-2: because you don't want to change the BC!!\n",
    "    for i in range(1, NX-1):    \n",
    "        newV = (V[i-1]+V[i+1])/2\n",
    "        prev_diff = abs(newV - V[i])\n",
    "        # to find the maximum difference in each loop (going over all interior points).\n",
    "        V[i] = newV\n",
    "        if diff < prev_diff:    \n",
    "            diff = prev_diff\n",
    "  \n",
    "            \n",
    "print(V)\n",
    "plt.plot(x, V)\n",
    "plt.show()\n",
    "          "
   ]
  },
  {
   "cell_type": "markdown",
   "metadata": {},
   "source": [
    "## The Physics:\n",
    "### This corresponds to the electric potential of a parallel plate capacitor \n",
    "### (length, width >> thickness)"
   ]
  },
  {
   "cell_type": "code",
   "execution_count": 28,
   "metadata": {},
   "outputs": [
    {
     "name": "stdout",
     "output_type": "stream",
     "text": [
      "[ 0.          0.09998692  0.19997634  0.29996902  0.39996537  0.49996537\n",
      "  0.59996867  0.69997466  0.79998249  0.89999124  1.        ]\n"
     ]
    },
    {
     "data": {
      "image/png": "[encoded data removed]",
      "text/plain": [
       "<matplotlib.figure.Figure at 0x10da0e160>"
      ]
     },
     "metadata": {},
     "output_type": "display_data"
    }
   ],
   "source": [
    "%matplotlib inline\n",
    "'''\n",
    "Now the subtleties\n",
    "1. I can remove the if statement\n",
    "2. I can use random numbers to initialize the interior points.\n",
    "'''\n",
    "import sys\n",
    "import numpy as np\n",
    "import matplotlib.pyplot as plt\n",
    "\n",
    "NX = 11\n",
    "\n",
    "#initialization\n",
    "# V = np.zeros(NX)\n",
    "\n",
    "# V = rand(NX)    #yes I can initialize with random numbers!\n",
    "\n",
    "\n",
    "# V = rand(NX)*1e12    # or even crazily large random numbers!\n",
    "V = np.zeros(NX)\n",
    "\n",
    "\n",
    "#Boundary Conditions:\n",
    "V[NX-1] = 1.\n",
    "V[0] = 0\n",
    "maxdiff = 1e-6\n",
    "diff = 1\n",
    "x = np.arange(NX)\n",
    "\n",
    "while diff > maxdiff:\n",
    "    for i in range(1, NX-1):    # start from 1 and end at NX-1: because you don't want to change the BC!!!!  \n",
    "        newV = (V[i-1]+V[i+1])/2\n",
    "        diff = abs(newV - V[i])\n",
    "        V[i] = newV\n",
    "\n",
    "            \n",
    "print(V)\n",
    "plt.plot(x, V)\n",
    "plt.show()\n",
    "          "
   ]
  },
  {
   "cell_type": "markdown",
   "metadata": {},
   "source": [
    "## Breakout Problem:\n",
    "### For a long rectangular tube (say 10 by 10), the potential on two opposite sides = 1 volt, and the potential on the other two sides = 0.  \n",
    "### Write a program to find V(x, y) in the interior of the tube. \n",
    "### Then plot the result as a surface plot."
   ]
  },
  {
   "cell_type": "markdown",
   "metadata": {},
   "source": [
    "## We will see the connection between PDE and linear algebra next week."
   ]
  },
  {
   "cell_type": "code",
   "execution_count": null,
   "metadata": {
    "collapsed": true
   },
   "outputs": [],
   "source": []
  },
  {
   "cell_type": "markdown",
   "metadata": {},
   "source": [
    "## End of week 6-2"
   ]
  }
 ],
 "metadata": {
  "kernelspec": {
   "display_name": "Python 3",
   "language": "python",
   "name": "python3"
  },
  "language_info": {
   "codemirror_mode": {
    "name": "ipython",
    "version": 3
   },
   "file_extension": ".py",
   "mimetype": "text/x-python",
   "name": "python",
   "nbconvert_exporter": "python",
   "pygments_lexer": "ipython3",
   "version": "3.6.3"
  }
 },
 "nbformat": 4,
 "nbformat_minor": 1
}
